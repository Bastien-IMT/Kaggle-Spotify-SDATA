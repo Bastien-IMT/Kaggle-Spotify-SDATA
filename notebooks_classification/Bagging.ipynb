{
 "cells": [
  {
   "cell_type": "code",
   "execution_count": 17,
   "metadata": {
    "collapsed": true
   },
   "outputs": [
    {
     "ename": "ModuleNotFoundError",
     "evalue": "No module named 'SMOTE'",
     "output_type": "error",
     "traceback": [
      "\u001B[1;31m---------------------------------------------------------------------------\u001B[0m",
      "\u001B[1;31mModuleNotFoundError\u001B[0m                       Traceback (most recent call last)",
      "\u001B[1;32m<ipython-input-17-fc32aa0e0a50>\u001B[0m in \u001B[0;36m<module>\u001B[1;34m\u001B[0m\n\u001B[1;32m----> 1\u001B[1;33m \u001B[1;32mimport\u001B[0m \u001B[0mSMOTE\u001B[0m \u001B[1;32mas\u001B[0m \u001B[0mSMOTE\u001B[0m\u001B[1;33m\u001B[0m\u001B[1;33m\u001B[0m\u001B[0m\n\u001B[0m\u001B[0;32m      2\u001B[0m \u001B[1;32mimport\u001B[0m \u001B[0mpandas\u001B[0m \u001B[1;32mas\u001B[0m \u001B[0mpd\u001B[0m\u001B[1;33m\u001B[0m\u001B[1;33m\u001B[0m\u001B[0m\n\u001B[0;32m      3\u001B[0m \u001B[1;32mimport\u001B[0m \u001B[0mnumpy\u001B[0m \u001B[1;32mas\u001B[0m \u001B[0mnp\u001B[0m\u001B[1;33m\u001B[0m\u001B[1;33m\u001B[0m\u001B[0m\n\u001B[0;32m      4\u001B[0m \u001B[1;32mfrom\u001B[0m \u001B[0mpreprocessing\u001B[0m \u001B[1;32mimport\u001B[0m \u001B[0mpreprocess_data\u001B[0m\u001B[1;33m\u001B[0m\u001B[1;33m\u001B[0m\u001B[0m\n\u001B[0;32m      5\u001B[0m \u001B[1;32mfrom\u001B[0m \u001B[0msklearn\u001B[0m\u001B[1;33m.\u001B[0m\u001B[0mpreprocessing\u001B[0m \u001B[1;32mimport\u001B[0m \u001B[0mLabelEncoder\u001B[0m\u001B[1;33m\u001B[0m\u001B[1;33m\u001B[0m\u001B[0m\n",
      "\u001B[1;31mModuleNotFoundError\u001B[0m: No module named 'SMOTE'"
     ]
    }
   ],
   "source": [
    "import SMOTE as SMOTE\n",
    "import pandas as pd\n",
    "import numpy as np\n",
    "from preprocessing import preprocess_data\n",
    "from sklearn.preprocessing import LabelEncoder\n",
    "from notebooks_classification.classification import compute_classifier\n",
    "from sklearn.metrics import classification_report\n",
    "from sklearn.svm import SVC\n",
    "from sklearn.ensemble import BaggingClassifier\n"
   ]
  },
  {
   "cell_type": "markdown",
   "source": [
    "## Data importation"
   ],
   "metadata": {
    "collapsed": false
   }
  },
  {
   "cell_type": "code",
   "execution_count": 18,
   "outputs": [],
   "source": [
    "df = pd.read_csv('../data/Spotify_train_dataset.csv')\n",
    "\n",
    "features_columns = ['danceability', 'energy', 'key', 'loudness', 'mode',\n",
    "        'speechiness', 'acousticness', 'instrumentalness', 'liveness',\n",
    "        'valence', 'tempo', 'duration_ms', 'time_signature']\n",
    "label = ['genre']"
   ],
   "metadata": {
    "collapsed": false,
    "pycharm": {
     "name": "#%%\n"
    }
   }
  },
  {
   "cell_type": "markdown",
   "source": [
    "## Preprocess"
   ],
   "metadata": {
    "collapsed": false
   }
  },
  {
   "cell_type": "markdown",
   "source": [
    "### With Strandardization"
   ],
   "metadata": {
    "collapsed": false
   }
  },
  {
   "cell_type": "code",
   "execution_count": 19,
   "outputs": [
    {
     "name": "stdout",
     "output_type": "stream",
     "text": [
      "------------------------------------------\n",
      "            Preprocessing data            \n",
      "------------------------------------------\n",
      "Get dataset\n",
      "Shape of the data to process : (31728, 20)\n",
      "------------------------------------------\n",
      "Extract labels ...\n",
      "Extract inputs ...\n",
      "Center and reduce inputs ...\n",
      "------------------------------------------\n",
      "Data shape after preprocessing : (31728, 13)\n",
      "Labels shape : (31728,)\n",
      "Return dataset(s) ...\n",
      "Preprocessing finished\n",
      "------------------------------------------\n"
     ]
    }
   ],
   "source": [
    "df_stand, labels = preprocess_data(df, features_columns, label, z_score=False, standardize=True)\n",
    "\n",
    "#Encode data\n",
    "le = LabelEncoder()\n",
    "labels_encoded = le.fit_transform(labels)"
   ],
   "metadata": {
    "collapsed": false,
    "pycharm": {
     "name": "#%% Data without standardization\n"
    }
   }
  },
  {
   "cell_type": "code",
   "execution_count": 4,
   "outputs": [
    {
     "name": "stdout",
     "output_type": "stream",
     "text": [
      "Accuracy : 0.6497730711043873\n"
     ]
    }
   ],
   "source": [
    "bag = BaggingClassifier(base_estimator=SVC(), n_estimators=15, random_state=0, n_jobs=-1)\n",
    "y_pred_stand = compute_classifier(df_stand, labels_encoded, bag)"
   ],
   "metadata": {
    "collapsed": false,
    "pycharm": {
     "name": "#%%\n"
    }
   }
  },
  {
   "cell_type": "code",
   "execution_count": 5,
   "outputs": [
    {
     "name": "stdout",
     "output_type": "stream",
     "text": [
      "Accuracy : 0.6493003025718608\n"
     ]
    }
   ],
   "source": [
    "bag = BaggingClassifier(base_estimator=SVC(), n_estimators=5, random_state=0, n_jobs=-1)\n",
    "y_pred_stand = compute_classifier(df_stand, labels_encoded, bag)"
   ],
   "metadata": {
    "collapsed": false,
    "pycharm": {
     "name": "#%%\n"
    }
   }
  },
  {
   "cell_type": "code",
   "execution_count": 6,
   "outputs": [
    {
     "name": "stdout",
     "output_type": "stream",
     "text": [
      "Accuracy : 0.6505610186585981\n"
     ]
    }
   ],
   "source": [
    "bag = BaggingClassifier(base_estimator=SVC(), n_estimators=30, random_state=0, n_jobs=-1)\n",
    "y_pred_stand = compute_classifier(df_stand, labels_encoded, bag)"
   ],
   "metadata": {
    "collapsed": false,
    "pycharm": {
     "name": "#%%\n"
    }
   }
  },
  {
   "cell_type": "code",
   "execution_count": 20,
   "outputs": [
    {
     "name": "stdout",
     "output_type": "stream",
     "text": [
      "Accuracy : 0.7767169179229481\n"
     ]
    }
   ],
   "source": [
    "from imblearn.over_sampling import SMOTE\n",
    "\n",
    "oversample = SMOTE()\n",
    "df_resample, labels_resample = oversample.fit_resample(df_stand, labels)\n",
    "model = BaggingClassifier()\n",
    "y_pred_stand = compute_classifier(df_resample, labels_resample, model)"
   ],
   "metadata": {
    "collapsed": false,
    "pycharm": {
     "name": "#%%\n"
    }
   }
  },
  {
   "cell_type": "code",
   "execution_count": 15,
   "outputs": [
    {
     "name": "stdout",
     "output_type": "stream",
     "text": [
      "Accuracy : 0.6504349470499243\n"
     ]
    }
   ],
   "source": [
    "oversample = SMOTE()\n",
    "df_resample, labels_resample = oversample.fit_resample(df_stand, labels)\n",
    "model = BaggingClassifier(base_estimator=SVC(), n_estimators=10, random_state=0, n_jobs=-1)\n",
    "y_pred_stand = compute_classifier(df_resample, labels_resample, model)"
   ],
   "metadata": {
    "collapsed": false,
    "pycharm": {
     "name": "#%%\n"
    }
   }
  }
 ],
 "metadata": {
  "kernelspec": {
   "display_name": "Python 3",
   "language": "python",
   "name": "python3"
  },
  "language_info": {
   "codemirror_mode": {
    "name": "ipython",
    "version": 2
   },
   "file_extension": ".py",
   "mimetype": "text/x-python",
   "name": "python",
   "nbconvert_exporter": "python",
   "pygments_lexer": "ipython2",
   "version": "2.7.6"
  }
 },
 "nbformat": 4,
 "nbformat_minor": 0
}