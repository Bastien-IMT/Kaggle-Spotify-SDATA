{
 "cells": [
  {
   "cell_type": "code",
   "execution_count": 20,
   "metadata": {
    "collapsed": true
   },
   "outputs": [],
   "source": [
    "import pandas as pd\n",
    "import numpy as np\n",
    "from preprocessing import preprocess_data\n",
    "from sklearn.preprocessing import LabelEncoder\n",
    "from notebooks_classification.classification import compute_classifier\n",
    "from sklearn.metrics import classification_report\n",
    "from sklearn.neighbors import KNeighborsClassifier\n",
    "\n",
    "from sklearn.metrics import roc_curve, auc"
   ]
  },
  {
   "cell_type": "markdown",
   "source": [
    "## Data importation"
   ],
   "metadata": {
    "collapsed": false
   }
  },
  {
   "cell_type": "code",
   "execution_count": 21,
   "outputs": [],
   "source": [
    "df = pd.read_csv('../data/Spotify_train_dataset.csv')\n",
    "\n",
    "features_columns = ['danceability', 'energy', 'key', 'loudness', 'mode',\n",
    "        'speechiness', 'acousticness', 'instrumentalness', 'liveness',\n",
    "        'valence', 'tempo', 'duration_ms', 'time_signature']\n",
    "label = ['genre']"
   ],
   "metadata": {
    "collapsed": false,
    "pycharm": {
     "name": "#%%\n"
    }
   }
  },
  {
   "cell_type": "markdown",
   "source": [
    "## Preprocess"
   ],
   "metadata": {
    "collapsed": false
   }
  },
  {
   "cell_type": "markdown",
   "source": [
    "### Without Strandardization"
   ],
   "metadata": {
    "collapsed": false
   }
  },
  {
   "cell_type": "code",
   "execution_count": 22,
   "outputs": [
    {
     "name": "stdout",
     "output_type": "stream",
     "text": [
      "------------------------------------------\n",
      "            Preprocessing data            \n",
      "------------------------------------------\n",
      "Get dataset\n",
      "Shape of the data to process : (31728, 20)\n",
      "------------------------------------------\n",
      "Extract labels ...\n",
      "Extract inputs ...\n",
      "------------------------------------------\n",
      "Data shape after preprocessing : (31728, 13)\n",
      "Labels shape : (31728,)\n",
      "Return dataset(s) ...\n",
      "Preprocessing finished\n",
      "------------------------------------------\n"
     ]
    }
   ],
   "source": [
    "df_normal, labels = preprocess_data(df, features_columns, label, z_score=False, standardize=False)\n",
    "\n",
    "#Encode data\n",
    "le = LabelEncoder()\n",
    "labels_encoded = le.fit_transform(labels)"
   ],
   "metadata": {
    "collapsed": false,
    "pycharm": {
     "name": "#%% Data without standardization\n"
    }
   }
  },
  {
   "cell_type": "markdown",
   "source": [
    "### With Strandardization"
   ],
   "metadata": {
    "collapsed": false
   }
  },
  {
   "cell_type": "code",
   "execution_count": 23,
   "outputs": [
    {
     "name": "stdout",
     "output_type": "stream",
     "text": [
      "------------------------------------------\n",
      "            Preprocessing data            \n",
      "------------------------------------------\n",
      "Get dataset\n",
      "Shape of the data to process : (31728, 20)\n",
      "------------------------------------------\n",
      "Extract labels ...\n",
      "Extract inputs ...\n",
      "Center and reduce inputs ...\n",
      "------------------------------------------\n",
      "Data shape after preprocessing : (31728, 13)\n",
      "Labels shape : (31728,)\n",
      "Return dataset(s) ...\n",
      "Preprocessing finished\n",
      "------------------------------------------\n"
     ]
    }
   ],
   "source": [
    "df_stand, labels = preprocess_data(df, features_columns, label, z_score=False, standardize=True)\n",
    "\n",
    "#Encode data\n",
    "le = LabelEncoder()\n",
    "labels_encoded = le.fit_transform(labels)"
   ],
   "metadata": {
    "collapsed": false,
    "pycharm": {
     "name": "#%% Data without standardization\n"
    }
   }
  },
  {
   "cell_type": "markdown",
   "source": [
    "### Basic Model"
   ],
   "metadata": {
    "collapsed": false
   }
  },
  {
   "cell_type": "code",
   "execution_count": 24,
   "outputs": [
    {
     "name": "stdout",
     "output_type": "stream",
     "text": [
      "KNN classifier basic param\n",
      "Without Standardization : \n",
      "Accuracy : 0.29210791729702473\n",
      "\n",
      "With Standardization : \n",
      "Accuracy : 0.5531076651538074\n",
      "                 precision    recall  f1-score   support\n",
      "\n",
      "      Dark Trap       0.36      0.41      0.39      3378\n",
      "            Emo       0.48      0.54      0.51      1262\n",
      "         Hiphop       0.34      0.36      0.35      2255\n",
      "            Pop       0.15      0.09      0.12       336\n",
      "            Rap       0.35      0.31      0.33      1420\n",
      "            RnB       0.29      0.21      0.25      1605\n",
      "     Trap Metal       0.26      0.15      0.19      1474\n",
      "Underground Rap       0.38      0.38      0.38      4378\n",
      "            dnb       0.88      0.92      0.90      2213\n",
      "      hardstyle       0.61      0.75      0.67      2178\n",
      "      psytrance       0.75      0.84      0.79      2214\n",
      "      techhouse       0.77      0.80      0.79      2254\n",
      "         techno       0.76      0.80      0.78      2226\n",
      "         trance       0.69      0.60      0.64      2275\n",
      "           trap       0.72      0.66      0.69      2260\n",
      "\n",
      "       accuracy                           0.55     31728\n",
      "      macro avg       0.52      0.52      0.52     31728\n",
      "   weighted avg       0.54      0.55      0.55     31728\n",
      "\n"
     ]
    }
   ],
   "source": [
    "print(\"KNN classifier basic param\")\n",
    "KNN = KNeighborsClassifier()\n",
    "print(\"Without Standardization : \")\n",
    "y_pred_normal = compute_classifier(df_normal, labels_encoded, KNN)\n",
    "print(\"\\nWith Standardization : \")\n",
    "y_pred_stand = compute_classifier(df_stand, labels_encoded, KNN)\n",
    "print(classification_report(labels_encoded, y_pred_stand, target_names=le.classes_))"
   ],
   "metadata": {
    "collapsed": false,
    "pycharm": {
     "name": "#%% Test model basic\n"
    }
   }
  },
  {
   "cell_type": "code",
   "execution_count": 25,
   "outputs": [
    {
     "name": "stdout",
     "output_type": "stream",
     "text": [
      "N of neighbors : 1\n",
      "Accuracy : 0.5237014624306606\n",
      "N of neighbors : 5\n",
      "Accuracy : 0.5531076651538074\n",
      "N of neighbors : 10\n",
      "Accuracy : 0.5675428643469491\n",
      "N of neighbors : 15\n",
      "Accuracy : 0.5765254664649521\n",
      "N of neighbors : 20\n",
      "Accuracy : 0.5770612708018155\n",
      "N of neighbors : 21\n",
      "Accuracy : 0.5775025214321735\n",
      "N of neighbors : 22\n",
      "Accuracy : 0.5776285930408472\n",
      "N of neighbors : 23\n",
      "Accuracy : 0.577250378214826\n",
      "N of neighbors : 24\n",
      "Accuracy : 0.5773449319213313\n",
      "N of neighbors : 25\n",
      "Accuracy : 0.5761472516389309\n",
      "N of neighbors : 50\n",
      "Accuracy : 0.5700327786182552\n"
     ]
    }
   ],
   "source": [
    "N_list = [1, 5, 10, 15, 20, 21, 22, 23, 24, 25, 50]\n",
    "for N in N_list :\n",
    "    print(\"N of neighbors : \" + str(N))\n",
    "    KNN = KNeighborsClassifier(n_neighbors=N)\n",
    "    y_pred_stand = compute_classifier(df_stand, labels_encoded, KNN)\n"
   ],
   "metadata": {
    "collapsed": false,
    "pycharm": {
     "name": "#%%\n"
    }
   }
  },
  {
   "cell_type": "code",
   "execution_count": 27,
   "outputs": [
    {
     "name": "stdout",
     "output_type": "stream",
     "text": [
      "change type of distances\n",
      "distance type : 1\n",
      "Accuracy : 0.600321482602118\n",
      "distance type : 2\n",
      "Accuracy : 0.5776285930408472\n",
      "distance type : 3\n",
      "Accuracy : 0.5664712556732224\n",
      "distance type : 4\n",
      "Accuracy : 0.5578038325769037\n",
      "distance type : 5\n",
      "Accuracy : 0.5536434694906707\n"
     ]
    }
   ],
   "source": [
    "print(\"change type of distances\")\n",
    "p = [1, 2, 3, 4, 5]\n",
    "for e in p :\n",
    "    print(\"distance type : \" + str(e))\n",
    "    KNN = KNeighborsClassifier(n_neighbors=22, p=e)\n",
    "    y_pred_stand = compute_classifier(df_stand, labels_encoded, KNN)"
   ],
   "metadata": {
    "collapsed": false,
    "pycharm": {
     "name": "#%%\n"
    }
   }
  },
  {
   "cell_type": "code",
   "execution_count": 29,
   "outputs": [
    {
     "name": "stdout",
     "output_type": "stream",
     "text": [
      "N of neighbors : 1\n",
      "Accuracy : 0.5338817448310641\n",
      "N of neighbors : 5\n",
      "Accuracy : 0.5695915279878971\n",
      "N of neighbors : 10\n",
      "Accuracy : 0.5884077155824509\n",
      "N of neighbors : 15\n",
      "Accuracy : 0.5969490670700958\n",
      "N of neighbors : 20\n",
      "Accuracy : 0.5995335350479072\n",
      "N of neighbors : 21\n",
      "Accuracy : 0.5992813918305597\n",
      "N of neighbors : 22\n",
      "Accuracy : 0.600321482602118\n",
      "N of neighbors : 23\n",
      "Accuracy : 0.6006366616238024\n",
      "N of neighbors : 24\n",
      "Accuracy : 0.6011724659606656\n",
      "N of neighbors : 25\n",
      "Accuracy : 0.6015506807866868\n",
      "N of neighbors : 50\n",
      "Accuracy : 0.5989662128088754\n"
     ]
    }
   ],
   "source": [
    "N_list = [1, 5, 10, 15, 20, 21, 22, 23, 24, 25, 50]\n",
    "for N in N_list :\n",
    "    print(\"N of neighbors : \" + str(N))\n",
    "    KNN = KNeighborsClassifier(n_neighbors=N, p=1)\n",
    "    y_pred_stand = compute_classifier(df_stand, labels_encoded, KNN)"
   ],
   "metadata": {
    "collapsed": false,
    "pycharm": {
     "name": "#%%\n"
    }
   }
  },
  {
   "cell_type": "code",
   "execution_count": 31,
   "outputs": [
    {
     "name": "stdout",
     "output_type": "stream",
     "text": [
      "KNN classifier optimized param\n",
      "Accuracy : 0.6011724659606656\n",
      "                 precision    recall  f1-score   support\n",
      "\n",
      "      Dark Trap       0.50      0.37      0.43      3378\n",
      "            Emo       0.54      0.53      0.54      1262\n",
      "         Hiphop       0.44      0.35      0.39      2255\n",
      "            Pop       0.28      0.05      0.09       336\n",
      "            Rap       0.53      0.25      0.34      1420\n",
      "            RnB       0.36      0.25      0.29      1605\n",
      "     Trap Metal       0.42      0.14      0.21      1474\n",
      "Underground Rap       0.41      0.63      0.50      4378\n",
      "            dnb       0.86      0.93      0.89      2213\n",
      "      hardstyle       0.60      0.83      0.70      2178\n",
      "      psytrance       0.76      0.87      0.81      2214\n",
      "      techhouse       0.77      0.84      0.80      2254\n",
      "         techno       0.76      0.83      0.80      2226\n",
      "         trance       0.70      0.68      0.69      2275\n",
      "           trap       0.71      0.69      0.70      2260\n",
      "\n",
      "       accuracy                           0.60     31728\n",
      "      macro avg       0.58      0.55      0.54     31728\n",
      "   weighted avg       0.59      0.60      0.58     31728\n",
      "\n"
     ]
    }
   ],
   "source": [
    "print(\"KNN classifier optimized param\")\n",
    "KNN = KNeighborsClassifier(n_neighbors=24, p=1)\n",
    "y_pred_stand = compute_classifier(df_stand, labels_encoded, KNN)\n",
    "print(classification_report(labels_encoded, y_pred_stand, target_names=le.classes_))\n",
    "\n"
   ],
   "metadata": {
    "collapsed": false,
    "pycharm": {
     "name": "#%%\n"
    }
   }
  }
 ],
 "metadata": {
  "kernelspec": {
   "display_name": "Python 3",
   "language": "python",
   "name": "python3"
  },
  "language_info": {
   "codemirror_mode": {
    "name": "ipython",
    "version": 2
   },
   "file_extension": ".py",
   "mimetype": "text/x-python",
   "name": "python",
   "nbconvert_exporter": "python",
   "pygments_lexer": "ipython2",
   "version": "2.7.6"
  }
 },
 "nbformat": 4,
 "nbformat_minor": 0
}