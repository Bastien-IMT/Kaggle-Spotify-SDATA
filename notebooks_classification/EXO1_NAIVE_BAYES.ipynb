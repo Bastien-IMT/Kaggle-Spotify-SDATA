{
 "cells": [
  {
   "cell_type": "code",
   "execution_count": 87,
   "metadata": {
    "collapsed": true
   },
   "outputs": [],
   "source": [
    "import pandas as pd\n",
    "import matplotlib.pyplot as plt\n",
    "import seaborn as sns\n",
    "from preprocessing import preprocess_data\n",
    "from sklearn.preprocessing import LabelEncoder\n",
    "from sklearn.naive_bayes import GaussianNB\n",
    "from sklearn.model_selection import KFold, cross_val_predict\n",
    "from sklearn.metrics import accuracy_score\n",
    "from sklearn.metrics import classification_report"
   ]
  },
  {
   "cell_type": "markdown",
   "source": [
    "## Data importation"
   ],
   "metadata": {
    "collapsed": false,
    "pycharm": {
     "name": "#%% md\n"
    }
   }
  },
  {
   "cell_type": "code",
   "execution_count": 75,
   "outputs": [],
   "source": [
    "df = pd.read_csv('../data/Spotify_train_dataset.csv')\n",
    "\n",
    "features_columns = ['danceability', 'energy', 'key', 'loudness', 'mode',\n",
    "        'speechiness', 'acousticness', 'instrumentalness', 'liveness',\n",
    "        'valence', 'tempo', 'duration_ms', 'time_signature']\n",
    "label = ['genre']"
   ],
   "metadata": {
    "collapsed": false,
    "pycharm": {
     "name": "#%%\n"
    }
   }
  },
  {
   "cell_type": "markdown",
   "source": [
    "## Preprocess"
   ],
   "metadata": {
    "collapsed": false,
    "pycharm": {
     "name": "#%% md\n"
    }
   }
  },
  {
   "cell_type": "markdown",
   "source": [
    "### Without Strandardization"
   ],
   "metadata": {
    "collapsed": false,
    "pycharm": {
     "name": "#%% md\n"
    }
   }
  },
  {
   "cell_type": "code",
   "execution_count": 76,
   "outputs": [
    {
     "name": "stdout",
     "output_type": "stream",
     "text": [
      "------------------------------------------\n",
      "            Preprocessing data            \n",
      "------------------------------------------\n",
      "Get dataset\n",
      "Shape of the data to process : (31728, 20)\n",
      "------------------------------------------\n",
      "Extract labels ...\n",
      "Extract inputs ...\n",
      "------------------------------------------\n",
      "Data shape after preprocessing : (31728, 13)\n",
      "Labels shape : (31728,)\n",
      "Return dataset(s) ...\n",
      "Preprocessing finished\n",
      "------------------------------------------\n"
     ]
    }
   ],
   "source": [
    "df_normal, labels = preprocess_data(df, features_columns, label, z_score=False, standardize=False)\n",
    "\n",
    "#Encode data\n",
    "le = LabelEncoder()\n",
    "labels_encoded = le.fit_transform(labels)"
   ],
   "metadata": {
    "collapsed": false,
    "pycharm": {
     "name": "#%% Data without standardization\n"
    }
   }
  },
  {
   "cell_type": "markdown",
   "source": [
    "### With Strandardization"
   ],
   "metadata": {
    "collapsed": false,
    "pycharm": {
     "name": "#%% md\n"
    }
   }
  },
  {
   "cell_type": "code",
   "execution_count": 77,
   "outputs": [
    {
     "name": "stdout",
     "output_type": "stream",
     "text": [
      "------------------------------------------\n",
      "            Preprocessing data            \n",
      "------------------------------------------\n",
      "Get dataset\n",
      "Shape of the data to process : (31728, 20)\n",
      "------------------------------------------\n",
      "Extract labels ...\n",
      "Extract inputs ...\n",
      "Center and reduce inputs ...\n",
      "------------------------------------------\n",
      "Data shape after preprocessing : (31728, 13)\n",
      "Labels shape : (31728,)\n",
      "Return dataset(s) ...\n",
      "Preprocessing finished\n",
      "------------------------------------------\n"
     ]
    }
   ],
   "source": [
    "df_stand, labels = preprocess_data(df, features_columns, label, z_score=False, standardize=True)\n",
    "\n",
    "#Encode data\n",
    "le = LabelEncoder()\n",
    "labels_encoded = le.fit_transform(labels)"
   ],
   "metadata": {
    "collapsed": false,
    "pycharm": {
     "name": "#%% Data without standardization\n"
    }
   }
  },
  {
   "cell_type": "code",
   "execution_count": 78,
   "outputs": [],
   "source": [
    "def compute_classifier(x_train, y_train, model) :\n",
    "    #create kfold\n",
    "    kfold = KFold(n_splits = 10, random_state = 18, shuffle = True)\n",
    "\n",
    "    #Predict y with cross validation\n",
    "    y_pred = cross_val_predict(model, x_train, y_train, cv=kfold)\n",
    "\n",
    "    #Compute metrics\n",
    "    accuracy = accuracy_score(y_train, y_pred)\n",
    "    print(\"Accuracy : \" + str(accuracy))\n",
    "\n",
    "    return y_pred"
   ],
   "metadata": {
    "collapsed": false,
    "pycharm": {
     "name": "#%%\n"
    }
   }
  },
  {
   "cell_type": "markdown",
   "source": [
    "### Computing"
   ],
   "metadata": {
    "collapsed": false
   }
  },
  {
   "cell_type": "code",
   "execution_count": 79,
   "outputs": [
    {
     "name": "stdout",
     "output_type": "stream",
     "text": [
      "GaussianNB\n",
      "Without Standardization : \n",
      "Accuracy : 0.49268784669692384\n",
      "\n",
      "With Standardization : \n",
      "Accuracy : 0.5891011094301564\n"
     ]
    }
   ],
   "source": [
    "print(\"GaussianNB\")\n",
    "GNB = GaussianNB()\n",
    "print(\"Without Standardization : \")\n",
    "y_pred_normal = compute_classifier(df_normal, labels_encoded, GNB)\n",
    "print(\"\\nWith Standardization : \")\n",
    "y_pred_stand = compute_classifier(df_stand, labels_encoded, GNB)"
   ],
   "metadata": {
    "collapsed": false,
    "pycharm": {
     "name": "#%% GaussianNB\n"
    }
   }
  },
  {
   "cell_type": "code",
   "execution_count": 80,
   "outputs": [
    {
     "name": "stdout",
     "output_type": "stream",
     "text": [
      "GaussianNB param changed\n",
      "Without Standardization : \n",
      "Accuracy : 0.5891011094301564\n",
      "\n",
      "With Standardization : \n",
      "Accuracy : 0.5891011094301564\n"
     ]
    }
   ],
   "source": [
    "print(\"GaussianNB param changed\")\n",
    "GNB = GaussianNB(var_smoothing=0)\n",
    "print(\"Without Standardization : \")\n",
    "y_pred_normal_2 = compute_classifier(df_normal, labels_encoded, GNB)\n",
    "print(\"\\nWith Standardization : \")\n",
    "y_pred_stand_2 = compute_classifier(df_stand, labels_encoded, GNB)\n"
   ],
   "metadata": {
    "collapsed": false,
    "pycharm": {
     "name": "#%% GaussianNB\n"
    }
   }
  },
  {
   "cell_type": "code",
   "execution_count": 88,
   "outputs": [
    {
     "name": "stdout",
     "output_type": "stream",
     "text": [
      "                 precision    recall  f1-score   support\n",
      "\n",
      "      Dark Trap       0.53      0.29      0.37      3378\n",
      "            Emo       0.41      0.53      0.46      1262\n",
      "         Hiphop       0.46      0.33      0.39      2255\n",
      "            Pop       0.16      0.26      0.20       336\n",
      "            Rap       0.29      0.43      0.35      1420\n",
      "            RnB       0.30      0.27      0.28      1605\n",
      "     Trap Metal       0.38      0.21      0.27      1474\n",
      "Underground Rap       0.44      0.51      0.48      4378\n",
      "            dnb       0.92      0.96      0.94      2213\n",
      "      hardstyle       0.74      0.78      0.76      2178\n",
      "      psytrance       0.76      0.87      0.81      2214\n",
      "      techhouse       0.79      0.88      0.83      2254\n",
      "         techno       0.80      0.74      0.77      2226\n",
      "         trance       0.61      0.73      0.66      2275\n",
      "           trap       0.70      0.68      0.69      2260\n",
      "\n",
      "       accuracy                           0.59     31728\n",
      "      macro avg       0.55      0.57      0.55     31728\n",
      "   weighted avg       0.59      0.59      0.58     31728\n",
      "\n"
     ]
    }
   ],
   "source": [
    "print(classification_report(labels_encoded, y_pred_stand, target_names=le.classes_))"
   ],
   "metadata": {
    "collapsed": false,
    "pycharm": {
     "name": "#%% Visualisation\n"
    }
   }
  }
 ],
 "metadata": {
  "kernelspec": {
   "display_name": "Python 3",
   "language": "python",
   "name": "python3"
  },
  "language_info": {
   "codemirror_mode": {
    "name": "ipython",
    "version": 2
   },
   "file_extension": ".py",
   "mimetype": "text/x-python",
   "name": "python",
   "nbconvert_exporter": "python",
   "pygments_lexer": "ipython2",
   "version": "2.7.6"
  }
 },
 "nbformat": 4,
 "nbformat_minor": 0
}