{
 "cells": [
  {
   "cell_type": "code",
   "execution_count": 1,
   "metadata": {
    "collapsed": true
   },
   "outputs": [],
   "source": [
    "import pandas as pd\n",
    "import numpy as np\n",
    "import matplotlib.pyplot as plt\n",
    "from preprocessing import preprocess_data\n",
    "\n",
    "import warnings\n",
    "warnings.filterwarnings(\"ignore\")"
   ]
  },
  {
   "cell_type": "code",
   "execution_count": 2,
   "outputs": [
    {
     "name": "stdout",
     "output_type": "stream",
     "text": [
      "(10577, 19)\n"
     ]
    }
   ],
   "source": [
    "df = pd.read_csv('../data/Spotify_train_dataset.csv')\n",
    "\n",
    "df_compet = pd.read_csv('../data/Spotify_test_dataset.csv')\n",
    "\n",
    "print(df_compet.shape)\n",
    "\n",
    "features_columns = ['danceability', 'energy', 'key', 'loudness', 'mode',\n",
    "        'speechiness', 'acousticness', 'instrumentalness', 'liveness',\n",
    "        'valence', 'tempo', 'duration_ms', 'time_signature']\n",
    "\n",
    "label = 'genre'"
   ],
   "metadata": {
    "collapsed": false,
    "pycharm": {
     "name": "#%%\n"
    }
   }
  },
  {
   "cell_type": "code",
   "execution_count": 3,
   "outputs": [
    {
     "name": "stdout",
     "output_type": "stream",
     "text": [
      "------------------------------------------\n",
      "            Preprocessing data            \n",
      "------------------------------------------\n",
      "Get dataset\n",
      "Shape of the data to process : (31728, 20)\n",
      "------------------------------------------\n",
      "Extract inputs ...\n",
      "Center and reduce inputs ...\n",
      "------------------------------------------\n",
      "Data shape after preprocessing : (31728, 13)\n",
      "Return dataset(s) ...\n",
      "Preprocessing finished\n",
      "------------------------------------------\n",
      "Shape dataframe original standardized without outliers :(31728, 13)\n",
      "------------------------------------------\n",
      "            Preprocessing data            \n",
      "------------------------------------------\n",
      "Get dataset\n",
      "Shape of the data to process : (10577, 19)\n",
      "------------------------------------------\n",
      "Extract inputs ...\n",
      "Center and reduce inputs ...\n",
      "------------------------------------------\n",
      "Data shape after preprocessing : (10577, 13)\n",
      "Return dataset(s) ...\n",
      "Preprocessing finished\n",
      "------------------------------------------\n",
      "Shape dataframe original standardized without outliers :(10577, 13)\n"
     ]
    }
   ],
   "source": [
    "from sklearn.preprocessing import LabelEncoder\n",
    "\n",
    "\n",
    "le = LabelEncoder()\n",
    "df_label_encoded = le.fit_transform(df[label])\n",
    "\n",
    "df_standardized = preprocess_data(df, features_columns, standardize=True)\n",
    "print(f\"Shape dataframe original standardized without outliers :{df_standardized.shape}\")\n",
    "\n",
    "df_compet_standardized = preprocess_data(df_compet, features_columns, standardize=True)\n",
    "print(f\"Shape dataframe original standardized without outliers :{df_compet_standardized.shape}\")"
   ],
   "metadata": {
    "collapsed": false,
    "pycharm": {
     "name": "#%%\n"
    }
   }
  },
  {
   "cell_type": "code",
   "execution_count": 4,
   "outputs": [],
   "source": [
    "from sklearn.model_selection import KFold, cross_val_score, cross_val_predict, train_test_split\n",
    "from sklearn.ensemble import RandomForestClassifier\n",
    "from sklearn.metrics import accuracy_score, precision_score, recall_score, confusion_matrix\n",
    "from sklearn.metrics import classification_report\n",
    "import seaborn as sns\n",
    "\n",
    "def compute_score_depth(X, y, depth_list):\n",
    "    scores = np.zeros(shape=len(depth_list))\n",
    "    kfold = KFold(n_splits=10, random_state=5)\n",
    "\n",
    "    for i, depth in enumerate(depth_list):\n",
    "\n",
    "        tree = RandomForestClassifier(max_depth=depth, random_state=5)\n",
    "        y_pred = cross_val_predict(tree, X, y, cv=kfold)\n",
    "\n",
    "        recall = recall_score(y, y_pred, average='micro')\n",
    "        precision = precision_score(y, y_pred, average='micro')\n",
    "\n",
    "        f_score = 2 * (precision * recall) / (precision + recall)\n",
    "\n",
    "        scores[i] = f_score\n",
    "\n",
    "    return scores\n",
    "\n",
    "def make_classification_report(X, y, class_names, clf):\n",
    "    kfold = KFold(n_splits=10, random_state=5)\n",
    "    y_pred = cross_val_predict(clf, X, y, cv=kfold)\n",
    "    cf_matrix = confusion_matrix(y, y_pred)\n",
    "\n",
    "    fig, ax = plt.subplots(figsize=(15,15))\n",
    "\n",
    "    sns.heatmap(cf_matrix, annot=True, ax=ax, cmap='hot_r')\n",
    "    plt.show()\n",
    "\n",
    "    return classification_report(y, y_pred, target_names=class_names)\n",
    "\n",
    "def plot_scores_vs_depth(depth_list, score_list, title):\n",
    "    plt.plot(depth_list, score_list, label='F1-Score vs depth')\n",
    "    plt.xlabel('Depth')\n",
    "    plt.suptitle(title)\n",
    "    plt.grid()\n",
    "    plt.show()\n"
   ],
   "metadata": {
    "collapsed": false,
    "pycharm": {
     "name": "#%%\n"
    }
   }
  },
  {
   "cell_type": "code",
   "execution_count": 5,
   "outputs": [
    {
     "data": {
      "text/plain": "<Figure size 432x288 with 1 Axes>",
      "image/png": "[encoded data removed]"
     },
     "metadata": {
      "needs_background": "light"
     },
     "output_type": "display_data"
    }
   ],
   "source": [
    "depth_list = [x for x in range(1, 35, 3)]\n",
    "score_standardized= compute_score_depth(df_standardized, df_label_encoded, depth_list)\n",
    "plot_scores_vs_depth(depth_list, score_standardized, 'F-score vs depth standardized dataset')"
   ],
   "metadata": {
    "collapsed": false,
    "pycharm": {
     "name": "#%%\n"
    }
   }
  },
  {
   "cell_type": "code",
   "execution_count": 6,
   "outputs": [
    {
     "name": "stdout",
     "output_type": "stream",
     "text": [
      "recall : 0.6754916792738276\n",
      "precision : 0.6754916792738276\n",
      "Score : 0.6754916792738276\n"
     ]
    }
   ],
   "source": [
    "kfold = KFold(n_splits=10, random_state=5)\n",
    "\n",
    "optimal_depth = depth_list[np.argmax(score_standardized)]\n",
    "benchmark = RandomForestClassifier(max_depth=optimal_depth, random_state=5, n_estimators=200)\n",
    "y_pred = cross_val_predict(benchmark, df_standardized, df_label_encoded, cv=kfold)\n",
    "\n",
    "recall = recall_score(df_label_encoded, y_pred, average='micro')\n",
    "precision = precision_score(df_label_encoded, y_pred, average='micro')\n",
    "\n",
    "f_score = 2 * (precision * recall) / (precision + recall)\n",
    "\n",
    "print(f\"recall : {recall}\\nprecision : {precision}\\nScore : {f_score}\")"
   ],
   "metadata": {
    "collapsed": false,
    "pycharm": {
     "name": "#%%\n"
    }
   }
  },
  {
   "cell_type": "markdown",
   "source": [
    "# Prediction"
   ],
   "metadata": {
    "collapsed": false
   }
  },
  {
   "cell_type": "code",
   "execution_count": 8,
   "outputs": [],
   "source": [
    "final_clf = RandomForestClassifier(max_depth=optimal_depth, random_state=5, n_estimators=200)\n",
    "final_clf.fit(df_standardized, df_label_encoded)\n",
    "\n",
    "prediction = final_clf.predict(df_compet_standardized)\n",
    "prediction_labels = le.inverse_transform(prediction)"
   ],
   "metadata": {
    "collapsed": false,
    "pycharm": {
     "name": "#%%\n"
    }
   }
  },
  {
   "cell_type": "code",
   "execution_count": 12,
   "outputs": [],
   "source": [
    "df_prediction_labels = pd.DataFrame({'genres' : prediction_labels})\n",
    "df_prediction_labels.to_csv('Les Wigolos (gold) prediction.csv')\n"
   ],
   "metadata": {
    "collapsed": false,
    "pycharm": {
     "name": "#%%\n"
    }
   }
  }
 ],
 "metadata": {
  "kernelspec": {
   "name": "pycharm-b574e03b",
   "language": "python",
   "display_name": "PyCharm (scientificProject)"
  },
  "language_info": {
   "codemirror_mode": {
    "name": "ipython",
    "version": 2
   },
   "file_extension": ".py",
   "mimetype": "text/x-python",
   "name": "python",
   "nbconvert_exporter": "python",
   "pygments_lexer": "ipython2",
   "version": "2.7.6"
  }
 },
 "nbformat": 4,
 "nbformat_minor": 0
}