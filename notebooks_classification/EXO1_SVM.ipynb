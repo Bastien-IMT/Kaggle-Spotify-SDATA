{
 "cells": [
  {
   "cell_type": "code",
   "execution_count": 1,
   "metadata": {
    "collapsed": true
   },
   "outputs": [],
   "source": [
    "import pandas as pd\n",
    "import numpy as np\n",
    "import matplotlib.pyplot as plt\n",
    "from preprocessing import preprocess_data, encode_label\n",
    "\n",
    "import warnings\n",
    "warnings.filterwarnings(\"ignore\")"
   ]
  },
  {
   "cell_type": "code",
   "execution_count": 2,
   "outputs": [],
   "source": [
    "df = pd.read_csv('../data/Spotify_train_dataset.csv')\n",
    "\n",
    "features_columns = ['danceability', 'energy', 'key', 'loudness', 'mode',\n",
    "        'speechiness', 'acousticness', 'instrumentalness', 'liveness',\n",
    "        'valence', 'tempo', 'duration_ms', 'time_signature']\n",
    "\n",
    "label = 'genre'"
   ],
   "metadata": {
    "collapsed": false,
    "pycharm": {
     "name": "#%%\n"
    }
   }
  },
  {
   "cell_type": "code",
   "execution_count": 3,
   "outputs": [
    {
     "name": "stdout",
     "output_type": "stream",
     "text": [
      "------------------------------------------\n",
      "            Preprocessing data            \n",
      "------------------------------------------\n",
      "Get dataset\n",
      "Shape of the data to process : (31728, 20)\n",
      "------------------------------------------\n",
      "Extract inputs ...\n",
      "------------------------------------------\n",
      "Data shape after preprocessing : (31728, 13)\n",
      "Return dataset(s) ...\n",
      "Preprocessing finished\n",
      "------------------------------------------\n",
      "Shape dataframe original :(31728, 13)\n",
      "------------------------------------------\n",
      "            Preprocessing data            \n",
      "------------------------------------------\n",
      "Get dataset\n",
      "Shape of the data to process : (31728, 20)\n",
      "------------------------------------------\n",
      "Extract inputs ...\n",
      "Center and reduce inputs ...\n",
      "------------------------------------------\n",
      "Data shape after preprocessing : (31728, 13)\n",
      "Return dataset(s) ...\n",
      "Preprocessing finished\n",
      "------------------------------------------\n",
      "Shape dataframe original standardized without outliers :(31728, 13)\n"
     ]
    }
   ],
   "source": [
    "from sklearn.preprocessing import LabelEncoder\n",
    "\n",
    "df_normal = preprocess_data(df, features_columns, z_score=False, standardize=False)\n",
    "print(f\"Shape dataframe original :{df_normal.shape}\")\n",
    "\n",
    "le = LabelEncoder()\n",
    "df_label_encoded = le.fit_transform(df[label])\n",
    "\n",
    "df_normal_standardized = preprocess_data(df, features_columns, standardize=True)\n",
    "print(f\"Shape dataframe original standardized without outliers :{df_normal_standardized.shape}\")\n"
   ],
   "metadata": {
    "collapsed": false,
    "pycharm": {
     "name": "#%%\n"
    }
   }
  },
  {
   "cell_type": "code",
   "execution_count": 4,
   "outputs": [
    {
     "name": "stdout",
     "output_type": "stream",
     "text": [
      "                 precision    recall  f1-score   support\n",
      "\n",
      "      Dark Trap       0.00      0.00      0.00      3378\n",
      "            Emo       0.00      0.00      0.00      1262\n",
      "         Hiphop       0.00      0.00      0.00      2255\n",
      "            Pop       0.00      0.00      0.00       336\n",
      "            Rap       0.00      0.00      0.00      1420\n",
      "            RnB       0.00      0.00      0.00      1605\n",
      "     Trap Metal       0.00      0.00      0.00      1474\n",
      "Underground Rap       0.25      0.78      0.38      4378\n",
      "            dnb       0.25      0.57      0.35      2213\n",
      "      hardstyle       0.00      0.00      0.00      2178\n",
      "      psytrance       0.52      0.70      0.59      2214\n",
      "      techhouse       0.00      0.00      0.00      2254\n",
      "         techno       0.34      0.46      0.39      2226\n",
      "         trance       0.00      0.00      0.00      2275\n",
      "           trap       0.13      0.42      0.20      2260\n",
      "\n",
      "       accuracy                           0.26     31728\n",
      "      macro avg       0.10      0.19      0.13     31728\n",
      "   weighted avg       0.12      0.26      0.16     31728\n",
      "\n"
     ]
    }
   ],
   "source": [
    "from sklearn.model_selection import KFold, cross_val_score, cross_val_predict, train_test_split\n",
    "from sklearn.metrics import accuracy_score, precision_score, recall_score\n",
    "from sklearn.metrics import classification_report\n",
    "from sklearn.svm import SVC\n",
    "\n",
    "svc = SVC()\n",
    "X = df_normal\n",
    "y = df_label_encoded\n",
    "\n",
    "kfold = KFold(n_splits=10, random_state=5)\n",
    "y_pred = cross_val_predict(svc, X, y, cv=kfold)\n",
    "\n",
    "print(classification_report(y, y_pred, target_names=le.classes_))"
   ],
   "metadata": {
    "collapsed": false,
    "pycharm": {
     "name": "#%%\n"
    }
   }
  }
 ],
 "metadata": {
  "kernelspec": {
   "name": "pycharm-b574e03b",
   "language": "python",
   "display_name": "PyCharm (scientificProject)"
  },
  "language_info": {
   "codemirror_mode": {
    "name": "ipython",
    "version": 2
   },
   "file_extension": ".py",
   "mimetype": "text/x-python",
   "name": "python",
   "nbconvert_exporter": "python",
   "pygments_lexer": "ipython2",
   "version": "2.7.6"
  }
 },
 "nbformat": 4,
 "nbformat_minor": 0
}