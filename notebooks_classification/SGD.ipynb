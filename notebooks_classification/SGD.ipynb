{
 "cells": [
  {
   "cell_type": "code",
   "execution_count": 1,
   "metadata": {
    "collapsed": true
   },
   "outputs": [],
   "source": [
    "import pandas as pd\n",
    "import numpy as np\n",
    "from preprocessing import preprocess_data\n",
    "from sklearn.preprocessing import LabelEncoder\n",
    "from notebooks_classification.classification import compute_classifier\n",
    "from sklearn.metrics import classification_report\n",
    "from sklearn.linear_model import SGDClassifier"
   ]
  },
  {
   "cell_type": "markdown",
   "source": [
    "## Data importation"
   ],
   "metadata": {
    "collapsed": false
   }
  },
  {
   "cell_type": "code",
   "execution_count": 2,
   "outputs": [],
   "source": [
    "df = pd.read_csv('../data/Spotify_train_dataset.csv')\n",
    "\n",
    "features_columns = ['danceability', 'energy', 'key', 'loudness', 'mode',\n",
    "        'speechiness', 'acousticness', 'instrumentalness', 'liveness',\n",
    "        'valence', 'tempo', 'duration_ms', 'time_signature']\n",
    "label = ['genre']"
   ],
   "metadata": {
    "collapsed": false,
    "pycharm": {
     "name": "#%%\n"
    }
   }
  },
  {
   "cell_type": "markdown",
   "source": [
    "## Preprocess"
   ],
   "metadata": {
    "collapsed": false
   }
  },
  {
   "cell_type": "markdown",
   "source": [
    "### Without Strandardization"
   ],
   "metadata": {
    "collapsed": false
   }
  },
  {
   "cell_type": "code",
   "execution_count": 3,
   "outputs": [
    {
     "name": "stdout",
     "output_type": "stream",
     "text": [
      "------------------------------------------\n",
      "            Preprocessing data            \n",
      "------------------------------------------\n",
      "Get dataset\n",
      "Shape of the data to process : (31728, 20)\n",
      "------------------------------------------\n",
      "Extract labels ...\n",
      "Extract inputs ...\n",
      "------------------------------------------\n",
      "Data shape after preprocessing : (31728, 13)\n",
      "Labels shape : (31728,)\n",
      "Return dataset(s) ...\n",
      "Preprocessing finished\n",
      "------------------------------------------\n"
     ]
    }
   ],
   "source": [
    "df_normal, labels = preprocess_data(df, features_columns, label, z_score=False, standardize=False)\n",
    "\n",
    "#Encode data\n",
    "le = LabelEncoder()\n",
    "labels_encoded = le.fit_transform(labels)"
   ],
   "metadata": {
    "collapsed": false,
    "pycharm": {
     "name": "#%% Data without standardization\n"
    }
   }
  },
  {
   "cell_type": "markdown",
   "source": [
    "### With Strandardization"
   ],
   "metadata": {
    "collapsed": false
   }
  },
  {
   "cell_type": "code",
   "execution_count": 4,
   "outputs": [
    {
     "name": "stdout",
     "output_type": "stream",
     "text": [
      "------------------------------------------\n",
      "            Preprocessing data            \n",
      "------------------------------------------\n",
      "Get dataset\n",
      "Shape of the data to process : (31728, 20)\n",
      "------------------------------------------\n",
      "Extract labels ...\n",
      "Extract inputs ...\n",
      "Center and reduce inputs ...\n",
      "------------------------------------------\n",
      "Data shape after preprocessing : (31728, 13)\n",
      "Labels shape : (31728,)\n",
      "Return dataset(s) ...\n",
      "Preprocessing finished\n",
      "------------------------------------------\n"
     ]
    }
   ],
   "source": [
    "df_stand, labels = preprocess_data(df, features_columns, label, z_score=False, standardize=True)\n",
    "\n",
    "#Encode data\n",
    "le = LabelEncoder()\n",
    "labels_encoded = le.fit_transform(labels)"
   ],
   "metadata": {
    "collapsed": false,
    "pycharm": {
     "name": "#%% Data without standardization\n"
    }
   }
  },
  {
   "cell_type": "markdown",
   "source": [
    "### Basic Model"
   ],
   "metadata": {
    "collapsed": false,
    "pycharm": {
     "name": "#%% md\n"
    }
   }
  },
  {
   "cell_type": "code",
   "execution_count": 5,
   "outputs": [
    {
     "name": "stdout",
     "output_type": "stream",
     "text": [
      "SGD classifier basic param\n",
      "Without Standardization : \n",
      "Accuracy : 0.08093797276853253\n",
      "\n",
      "With Standardization : \n",
      "Accuracy : 0.4861006051437216\n",
      "                 precision    recall  f1-score   support\n",
      "\n",
      "      Dark Trap       0.36      0.27      0.31      3378\n",
      "            Emo       0.32      0.31      0.31      1262\n",
      "         Hiphop       0.28      0.35      0.31      2255\n",
      "            Pop       0.06      0.04      0.05       336\n",
      "            Rap       0.32      0.22      0.26      1420\n",
      "            RnB       0.21      0.24      0.22      1605\n",
      "     Trap Metal       0.20      0.10      0.14      1474\n",
      "Underground Rap       0.41      0.43      0.42      4378\n",
      "            dnb       0.62      0.84      0.71      2213\n",
      "      hardstyle       0.48      0.40      0.43      2178\n",
      "      psytrance       0.78      0.76      0.77      2214\n",
      "      techhouse       0.66      0.77      0.71      2254\n",
      "         techno       0.72      0.76      0.74      2226\n",
      "         trance       0.58      0.57      0.57      2275\n",
      "           trap       0.55      0.65      0.60      2260\n",
      "\n",
      "       accuracy                           0.49     31728\n",
      "      macro avg       0.44      0.45      0.44     31728\n",
      "   weighted avg       0.47      0.49      0.47     31728\n",
      "\n"
     ]
    }
   ],
   "source": [
    "print(\"SGD classifier basic param\")\n",
    "SGD = SGDClassifier()\n",
    "print(\"Without Standardization : \")\n",
    "y_pred_normal = compute_classifier(df_normal, labels_encoded, SGD)\n",
    "print(\"\\nWith Standardization : \")\n",
    "y_pred_stand = compute_classifier(df_stand, labels_encoded, SGD)\n",
    "print(classification_report(labels_encoded, y_pred_stand, target_names=le.classes_))"
   ],
   "metadata": {
    "collapsed": false,
    "pycharm": {
     "name": "#%% Test model basic\n"
    }
   }
  },
  {
   "cell_type": "markdown",
   "source": [
    "### parameters"
   ],
   "metadata": {
    "collapsed": false,
    "pycharm": {
     "name": "#%% md\n"
    }
   }
  },
  {
   "cell_type": "code",
   "execution_count": 6,
   "outputs": [
    {
     "name": "stdout",
     "output_type": "stream",
     "text": [
      "SGD classifier max_iter param\n",
      "Accuracy : 0.49508320726172467\n"
     ]
    }
   ],
   "source": [
    "print(\"SGD classifier max_iter param\")\n",
    "SGD = SGDClassifier(max_iter=1000, tol=1e-3)\n",
    "y_pred_stand = compute_classifier(df_stand, labels_encoded, SGD)"
   ],
   "metadata": {
    "collapsed": false,
    "pycharm": {
     "name": "#%%\n"
    }
   }
  },
  {
   "cell_type": "code",
   "execution_count": 7,
   "outputs": [
    {
     "name": "stdout",
     "output_type": "stream",
     "text": [
      "SGD classifier best 'loss' param\n",
      "Accuracy : 0.5509959657085225\n",
      "                 precision    recall  f1-score   support\n",
      "\n",
      "      Dark Trap       0.44      0.38      0.41      3378\n",
      "            Emo       0.40      0.36      0.38      1262\n",
      "         Hiphop       0.39      0.35      0.37      2255\n",
      "            Pop       0.00      0.00      0.00       336\n",
      "            Rap       0.39      0.28      0.32      1420\n",
      "            RnB       0.35      0.19      0.25      1605\n",
      "     Trap Metal       0.42      0.17      0.24      1474\n",
      "Underground Rap       0.42      0.60      0.50      4378\n",
      "            dnb       0.70      0.81      0.75      2213\n",
      "      hardstyle       0.57      0.58      0.58      2178\n",
      "      psytrance       0.79      0.81      0.80      2214\n",
      "      techhouse       0.70      0.79      0.74      2254\n",
      "         techno       0.77      0.76      0.77      2226\n",
      "         trance       0.60      0.63      0.61      2275\n",
      "           trap       0.61      0.71      0.66      2260\n",
      "\n",
      "       accuracy                           0.55     31728\n",
      "      macro avg       0.50      0.49      0.49     31728\n",
      "   weighted avg       0.54      0.55      0.54     31728\n",
      "\n"
     ]
    }
   ],
   "source": [
    "print(\"SGD classifier best 'loss' param\")\n",
    "SGD = SGDClassifier(loss='log', max_iter=1000, tol=1e-3)\n",
    "y_pred_stand = compute_classifier(df_stand, labels_encoded, SGD)\n",
    "print(classification_report(labels_encoded, y_pred_stand, target_names=le.classes_))"
   ],
   "metadata": {
    "collapsed": false,
    "pycharm": {
     "name": "#%%\n"
    }
   }
  },
  {
   "cell_type": "code",
   "execution_count": 8,
   "outputs": [
    {
     "name": "stdout",
     "output_type": "stream",
     "text": [
      "SGD classifier leaning rate type implication\n",
      "\n",
      "learning rate constant:\n",
      "Accuracy : 0.514971003530005\n",
      "\n",
      "learning rate optimal:\n",
      "Accuracy : 0.5517839132627332\n",
      "\n",
      "learning rate invscaling:\n",
      "Accuracy : 0.5480332829046899\n",
      "\n",
      "learning rate adaptive:\n",
      "Accuracy : 0.5646116994452849\n"
     ]
    }
   ],
   "source": [
    "print(\"SGD classifier leaning rate type implication\")\n",
    "learning_rates = [\"constant\", \"optimal\", \"invscaling\", \"adaptive\"]\n",
    "for lr in learning_rates :\n",
    "    SGD = SGDClassifier(loss='log', max_iter=1000, tol=1e-3, learning_rate=lr, eta0=0.1)\n",
    "    print('\\nlearning rate ' + lr + ':')\n",
    "    y_pred_stand = compute_classifier(df_stand, labels_encoded, SGD)"
   ],
   "metadata": {
    "collapsed": false,
    "pycharm": {
     "name": "#%%\n"
    }
   }
  },
  {
   "cell_type": "code",
   "execution_count": 12,
   "outputs": [
    {
     "name": "stdout",
     "output_type": "stream",
     "text": [
      "SGD classifier eta0 implication for learning rate 'adaptive\n",
      "\n",
      "Eta0 = 0.5976112892330638:\n",
      "Accuracy : 0.5649268784669692\n",
      "\n",
      "Eta0 = 0.7573819828779228:\n",
      "Accuracy : 0.5646116994452849\n",
      "\n",
      "Eta0 = 0.09444475672971928:\n",
      "Accuracy : 0.5647377710539586\n",
      "\n",
      "Eta0 = 0.7574105838480979:\n",
      "Accuracy : 0.5645801815431165\n",
      "\n",
      "Eta0 = 0.6546483502329741:\n",
      "Accuracy : 0.5646432173474534\n",
      "\n",
      "Eta0 = 0.6015926001724772:\n",
      "Accuracy : 0.5647377710539586\n",
      "\n",
      "Eta0 = 0.8346498873858275:\n",
      "Accuracy : 0.5644856278366112\n",
      "\n",
      "Eta0 = 0.9852422670098709:\n",
      "Accuracy : 0.5648638426626323\n",
      "\n",
      "Eta0 = 0.7089183943209227:\n",
      "Accuracy : 0.5645801815431165\n",
      "\n",
      "Eta0 = 0.024462340938316028:\n",
      "Accuracy : 0.5643595562279374\n"
     ]
    }
   ],
   "source": [
    "# print(\"SGD classifier eta0 implication for learning rate 'adaptive\")\n",
    "# eta0_list = np.random.uniform(0.01, 1, 10)\n",
    "# for eta0 in eta0_list:\n",
    "#     SGD = SGDClassifier(loss='log', max_iter=1000, tol=1e-3, learning_rate='adaptive', eta0=eta0)\n",
    "#     print('\\nEta0 = ' + str(eta0) + ':')\n",
    "#     y_pred_stand = compute_classifier(df_stand, labels_encoded, SGD)\n",
    "\n"
   ],
   "metadata": {
    "collapsed": false,
    "pycharm": {
     "name": "#%% Pas interressant\n"
    }
   }
  }
 ],
 "metadata": {
  "kernelspec": {
   "display_name": "Python 3",
   "language": "python",
   "name": "python3"
  },
  "language_info": {
   "codemirror_mode": {
    "name": "ipython",
    "version": 2
   },
   "file_extension": ".py",
   "mimetype": "text/x-python",
   "name": "python",
   "nbconvert_exporter": "python",
   "pygments_lexer": "ipython2",
   "version": "2.7.6"
  }
 },
 "nbformat": 4,
 "nbformat_minor": 0
}