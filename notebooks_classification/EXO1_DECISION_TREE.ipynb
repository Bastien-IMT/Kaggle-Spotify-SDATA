{
 "cells": [
  {
   "cell_type": "code",
   "execution_count": 1,
   "metadata": {
    "collapsed": true
   },
   "outputs": [],
   "source": [
    "import pandas as pd\n",
    "import numpy as np\n",
    "import matplotlib.pyplot as plt\n",
    "from preprocessing import preprocess_data, encode_label\n",
    "\n",
    "import warnings\n",
    "warnings.filterwarnings(\"ignore\")"
   ]
  },
  {
   "cell_type": "code",
   "execution_count": 2,
   "outputs": [],
   "source": [
    "df = pd.read_csv('../data/Spotify_train_dataset.csv')\n",
    "\n",
    "features_columns = ['danceability', 'energy', 'key', 'loudness', 'mode',\n",
    "        'speechiness', 'acousticness', 'instrumentalness', 'liveness',\n",
    "        'valence', 'tempo', 'duration_ms', 'time_signature']\n",
    "\n",
    "label = 'genre'"
   ],
   "metadata": {
    "collapsed": false,
    "pycharm": {
     "name": "#%%\n"
    }
   }
  },
  {
   "cell_type": "code",
   "execution_count": 3,
   "outputs": [
    {
     "name": "stdout",
     "output_type": "stream",
     "text": [
      "------------------------------------------\n",
      "            Preprocessing data            \n",
      "------------------------------------------\n",
      "Get dataset\n",
      "Shape of the data to process : (31728, 20)\n",
      "------------------------------------------\n",
      "Extract inputs ...\n",
      "------------------------------------------\n",
      "Data shape after preprocessing : (31728, 13)\n",
      "Return dataset(s) ...\n",
      "Preprocessing finished\n",
      "------------------------------------------\n",
      "Shape dataframe original :(31728, 13)\n",
      "------------------------------------------\n",
      "            Preprocessing data            \n",
      "------------------------------------------\n",
      "Get dataset\n",
      "Shape of the data to process : (31728, 20)\n",
      "------------------------------------------\n",
      "Extract inputs ...\n",
      "Center and reduce inputs ...\n",
      "------------------------------------------\n",
      "Data shape after preprocessing : (31728, 13)\n",
      "Return dataset(s) ...\n",
      "Preprocessing finished\n",
      "------------------------------------------\n",
      "Shape dataframe original standardized without outliers :(31728, 13)\n"
     ]
    }
   ],
   "source": [
    "from sklearn.preprocessing import LabelEncoder\n",
    "\n",
    "df_normal = preprocess_data(df, features_columns, z_score=False, standardize=False)\n",
    "print(f\"Shape dataframe original :{df_normal.shape}\")\n",
    "\n",
    "le = LabelEncoder()\n",
    "df_label_encoded = le.fit_transform(df[label])\n",
    "\n",
    "df_normal_standardized = preprocess_data(df, features_columns, standardize=True)\n",
    "print(f\"Shape dataframe original standardized without outliers :{df_normal_standardized.shape}\")\n"
   ],
   "metadata": {
    "collapsed": false,
    "pycharm": {
     "name": "#%%\n"
    }
   }
  },
  {
   "cell_type": "code",
   "execution_count": 4,
   "outputs": [],
   "source": [
    "from sklearn.multiclass import OneVsOneClassifier, OneVsRestClassifier\n",
    "from sklearn.model_selection import KFold, cross_val_score, cross_val_predict, train_test_split\n",
    "from sklearn.tree import DecisionTreeClassifier\n",
    "from sklearn.metrics import accuracy_score, precision_score, recall_score\n",
    "from sklearn.metrics import classification_report\n",
    "\n",
    "def compute_score(X, y, depth_list):\n",
    "    scores = np.zeros(shape=len(depth_list))\n",
    "    kfold = KFold(n_splits=10, random_state=5)\n",
    "\n",
    "    for i, depth in enumerate(depth_list):\n",
    "\n",
    "        tree = DecisionTreeClassifier(max_depth=depth, random_state=5)\n",
    "        y_pred = cross_val_predict(tree, X, y, cv=kfold)\n",
    "\n",
    "        recall = recall_score(y, y_pred, average='micro')\n",
    "        precision = precision_score(y, y_pred, average='micro')\n",
    "\n",
    "        f_score = 2 * (precision * recall) / (precision + recall)\n",
    "\n",
    "        scores[i] = f_score\n",
    "\n",
    "    return scores\n",
    "\n",
    "def make_classification_report(X, y, class_names, clf):\n",
    "    kfold = KFold(n_splits=10, random_state=5)\n",
    "    y_pred = cross_val_predict(clf, X, y, cv=kfold)\n",
    "    return classification_report(y, y_pred, target_names=class_names)\n",
    "\n",
    "def plot_scores_vs_depth(depth_list, score_list, title):\n",
    "    plt.plot(depth_list, score_list, label='F1-Score vs depth')\n",
    "    plt.xlabel('Depth')\n",
    "    plt.suptitle(title)\n",
    "    plt.grid()\n",
    "    plt.show()"
   ],
   "metadata": {
    "collapsed": false,
    "pycharm": {
     "name": "#%%\n"
    }
   }
  },
  {
   "cell_type": "code",
   "execution_count": 5,
   "outputs": [
    {
     "name": "stdout",
     "output_type": "stream",
     "text": [
      "30\n",
      "Accuracy :  0.560118422309235 | Score 0.560118422309235\n"
     ]
    }
   ],
   "source": [
    "y = df_label_encoded\n",
    "clf = DecisionTreeClassifier(random_state=5)\n",
    "X_train, X_test, y_train, y_test = train_test_split(df_normal, y, test_size=0.33, random_state=42)\n",
    "clf.fit(X_train, y_train)\n",
    "print(clf.get_depth())\n",
    "y_pred = clf.predict(X_test)\n",
    "\n",
    "accuracy = accuracy_score(y_test, y_pred)\n",
    "recall = recall_score(y_test, y_pred, average='micro')\n",
    "precision = precision_score(y_test, y_pred, average='micro')\n",
    "f_score = 2 * (precision * recall) / (precision + recall)\n",
    "print(f'Accuracy :  {accuracy} | Score {f_score}')"
   ],
   "metadata": {
    "collapsed": false,
    "pycharm": {
     "name": "#%%\n"
    }
   }
  },
  {
   "cell_type": "markdown",
   "source": [
    "## Finding optimal depth"
   ],
   "metadata": {
    "collapsed": false,
    "pycharm": {
     "name": "#%% md\n"
    }
   }
  },
  {
   "cell_type": "code",
   "execution_count": 6,
   "outputs": [],
   "source": [
    "depth_list = [x for x in range(1, 35, 3)]"
   ],
   "metadata": {
    "collapsed": false,
    "pycharm": {
     "name": "#%%\n"
    }
   }
  },
  {
   "cell_type": "markdown",
   "source": [
    "### 1) Normal dataset"
   ],
   "metadata": {
    "collapsed": false,
    "pycharm": {
     "name": "#%% md\n"
    }
   }
  },
  {
   "cell_type": "code",
   "execution_count": 7,
   "outputs": [
    {
     "data": {
      "text/plain": "<Figure size 432x288 with 1 Axes>",
      "image/png": "[encoded data removed]"
     },
     "metadata": {
      "needs_background": "light"
     },
     "output_type": "display_data"
    }
   ],
   "source": [
    "score_normal= compute_score(df_normal, y, depth_list)\n",
    "plot_scores_vs_depth(depth_list, score_normal, 'F-score vs depth normal dataset')"
   ],
   "metadata": {
    "collapsed": false,
    "pycharm": {
     "name": "#%%\n"
    }
   }
  },
  {
   "cell_type": "markdown",
   "source": [
    "### 2) Standardized dataset"
   ],
   "metadata": {
    "collapsed": false,
    "pycharm": {
     "name": "#%% md\n"
    }
   }
  },
  {
   "cell_type": "code",
   "execution_count": 8,
   "outputs": [
    {
     "data": {
      "text/plain": "<Figure size 432x288 with 1 Axes>",
      "image/png": "[encoded data removed]"
     },
     "metadata": {
      "needs_background": "light"
     },
     "output_type": "display_data"
    }
   ],
   "source": [
    "score_standardized= compute_score(df_normal_standardized, y, depth_list)\n",
    "plot_scores_vs_depth(depth_list, score_standardized, 'F-score vs depth standardized dataset')"
   ],
   "metadata": {
    "collapsed": false,
    "pycharm": {
     "name": "#%%\n"
    }
   }
  },
  {
   "cell_type": "markdown",
   "source": [
    "## Classification report for optimal depth"
   ],
   "metadata": {
    "collapsed": false,
    "pycharm": {
     "name": "#%% md\n"
    }
   }
  },
  {
   "cell_type": "code",
   "execution_count": 9,
   "outputs": [
    {
     "name": "stdout",
     "output_type": "stream",
     "text": [
      "                 precision    recall  f1-score   support\n",
      "\n",
      "      Dark Trap       0.45      0.41      0.43      3378\n",
      "            Emo       0.54      0.53      0.54      1262\n",
      "         Hiphop       0.39      0.35      0.37      2255\n",
      "            Pop       0.10      0.01      0.02       336\n",
      "            Rap       0.90      0.27      0.42      1420\n",
      "            RnB       0.30      0.34      0.32      1605\n",
      "     Trap Metal       0.37      0.20      0.26      1474\n",
      "Underground Rap       0.42      0.63      0.50      4378\n",
      "            dnb       0.95      0.93      0.94      2213\n",
      "      hardstyle       0.75      0.83      0.79      2178\n",
      "      psytrance       0.89      0.88      0.88      2214\n",
      "      techhouse       0.82      0.86      0.84      2254\n",
      "         techno       0.83      0.80      0.81      2226\n",
      "         trance       0.73      0.78      0.76      2275\n",
      "           trap       0.76      0.71      0.74      2260\n",
      "\n",
      "       accuracy                           0.62     31728\n",
      "      macro avg       0.61      0.57      0.57     31728\n",
      "   weighted avg       0.63      0.62      0.61     31728\n",
      "\n"
     ]
    }
   ],
   "source": [
    "\n",
    "optimal_depth = depth_list[np.argmax(score_normal)]\n",
    "clf = DecisionTreeClassifier(random_state=5, max_depth=optimal_depth)\n",
    "\n",
    "\n",
    "print(make_classification_report(df_normal, df_label_encoded, le.classes_, clf))\n"
   ],
   "metadata": {
    "collapsed": false,
    "pycharm": {
     "name": "#%%\n"
    }
   }
  }
 ],
 "metadata": {
  "kernelspec": {
   "name": "pycharm-b574e03b",
   "language": "python",
   "display_name": "PyCharm (scientificProject)"
  },
  "language_info": {
   "codemirror_mode": {
    "name": "ipython",
    "version": 2
   },
   "file_extension": ".py",
   "mimetype": "text/x-python",
   "name": "python",
   "nbconvert_exporter": "python",
   "pygments_lexer": "ipython2",
   "version": "2.7.6"
  }
 },
 "nbformat": 4,
 "nbformat_minor": 0
}