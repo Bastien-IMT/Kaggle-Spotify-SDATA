{
 "cells": [
  {
   "cell_type": "code",
   "execution_count": 1,
   "metadata": {
    "collapsed": true
   },
   "outputs": [],
   "source": [
    "import numpy as np\n",
    "import pandas as pd\n",
    "import seaborn as sns\n",
    "import matplotlib.pyplot as plt"
   ]
  },
  {
   "cell_type": "code",
   "execution_count": 2,
   "outputs": [
    {
     "data": {
      "text/plain": "   mode                  genres  acousticness  danceability   duration_ms  \\\n0     1  21st century classical      0.979333      0.162883  1.602977e+05   \n1     1                   432hz      0.494780      0.299333  1.048887e+06   \n2     1                   8-bit      0.762000      0.712000  1.151770e+05   \n3     1                      []      0.651417      0.529093  2.328809e+05   \n4     1              a cappella      0.676557      0.538961  1.906285e+05   \n\n     energy  instrumentalness  liveness   loudness  speechiness       tempo  \\\n0  0.071317          0.606834  0.361600 -31.514333     0.040567   75.336500   \n1  0.450678          0.477762  0.131000 -16.854000     0.076817  120.285667   \n2  0.818000          0.876000  0.126000  -9.180000     0.047000  133.444000   \n3  0.419146          0.205309  0.218696 -12.288965     0.107872  112.857352   \n4  0.316434          0.003003  0.172254 -12.479387     0.082851  112.110362   \n\n    valence  popularity  key  \n0  0.103783   27.833333    6  \n1  0.221750   52.500000    5  \n2  0.975000   48.000000    7  \n3  0.513604   20.859882    7  \n4  0.448249   45.820071    7  ",
      "text/html": "<div>\n<style scoped>\n    .dataframe tbody tr th:only-of-type {\n        vertical-align: middle;\n    }\n\n    .dataframe tbody tr th {\n        vertical-align: top;\n    }\n\n    .dataframe thead th {\n        text-align: right;\n    }\n</style>\n<table border=\"1\" class=\"dataframe\">\n  <thead>\n    <tr style=\"text-align: right;\">\n      <th></th>\n      <th>mode</th>\n      <th>genres</th>\n      <th>acousticness</th>\n      <th>danceability</th>\n      <th>duration_ms</th>\n      <th>energy</th>\n      <th>instrumentalness</th>\n      <th>liveness</th>\n      <th>loudness</th>\n      <th>speechiness</th>\n      <th>tempo</th>\n      <th>valence</th>\n      <th>popularity</th>\n      <th>key</th>\n    </tr>\n  </thead>\n  <tbody>\n    <tr>\n      <th>0</th>\n      <td>1</td>\n      <td>21st century classical</td>\n      <td>0.979333</td>\n      <td>0.162883</td>\n      <td>1.602977e+05</td>\n      <td>0.071317</td>\n      <td>0.606834</td>\n      <td>0.361600</td>\n      <td>-31.514333</td>\n      <td>0.040567</td>\n      <td>75.336500</td>\n      <td>0.103783</td>\n      <td>27.833333</td>\n      <td>6</td>\n    </tr>\n    <tr>\n      <th>1</th>\n      <td>1</td>\n      <td>432hz</td>\n      <td>0.494780</td>\n      <td>0.299333</td>\n      <td>1.048887e+06</td>\n      <td>0.450678</td>\n      <td>0.477762</td>\n      <td>0.131000</td>\n      <td>-16.854000</td>\n      <td>0.076817</td>\n      <td>120.285667</td>\n      <td>0.221750</td>\n      <td>52.500000</td>\n      <td>5</td>\n    </tr>\n    <tr>\n      <th>2</th>\n      <td>1</td>\n      <td>8-bit</td>\n      <td>0.762000</td>\n      <td>0.712000</td>\n      <td>1.151770e+05</td>\n      <td>0.818000</td>\n      <td>0.876000</td>\n      <td>0.126000</td>\n      <td>-9.180000</td>\n      <td>0.047000</td>\n      <td>133.444000</td>\n      <td>0.975000</td>\n      <td>48.000000</td>\n      <td>7</td>\n    </tr>\n    <tr>\n      <th>3</th>\n      <td>1</td>\n      <td>[]</td>\n      <td>0.651417</td>\n      <td>0.529093</td>\n      <td>2.328809e+05</td>\n      <td>0.419146</td>\n      <td>0.205309</td>\n      <td>0.218696</td>\n      <td>-12.288965</td>\n      <td>0.107872</td>\n      <td>112.857352</td>\n      <td>0.513604</td>\n      <td>20.859882</td>\n      <td>7</td>\n    </tr>\n    <tr>\n      <th>4</th>\n      <td>1</td>\n      <td>a cappella</td>\n      <td>0.676557</td>\n      <td>0.538961</td>\n      <td>1.906285e+05</td>\n      <td>0.316434</td>\n      <td>0.003003</td>\n      <td>0.172254</td>\n      <td>-12.479387</td>\n      <td>0.082851</td>\n      <td>112.110362</td>\n      <td>0.448249</td>\n      <td>45.820071</td>\n      <td>7</td>\n    </tr>\n  </tbody>\n</table>\n</div>"
     },
     "execution_count": 2,
     "metadata": {},
     "output_type": "execute_result"
    }
   ],
   "source": [
    "df = pd.read_csv('../data/Spotify_exo2.csv')\n",
    "df.head()"
   ],
   "metadata": {
    "collapsed": false,
    "pycharm": {
     "name": "#%%\n"
    }
   }
  },
  {
   "cell_type": "code",
   "execution_count": 3,
   "outputs": [],
   "source": [
    "from NLP_on_genres import transform_genres, is_there_nan_values"
   ],
   "metadata": {
    "collapsed": false,
    "pycharm": {
     "name": "#%%\n"
    }
   }
  },
  {
   "cell_type": "code",
   "execution_count": 4,
   "outputs": [],
   "source": [
    "NLP = transform_genres(df)\n",
    "NLP = NLP.drop('genres', axis=1)"
   ],
   "metadata": {
    "collapsed": false,
    "pycharm": {
     "name": "#%%\n"
    }
   }
  },
  {
   "cell_type": "code",
   "execution_count": 5,
   "outputs": [
    {
     "name": "stdout",
     "output_type": "stream",
     "text": [
      "------------------------------------------\n",
      "            Preprocessing data exo2           \n",
      "------------------------------------------\n",
      "Get dataset\n",
      "------------------------------------------\n",
      "Extract inputs ...\n",
      "Shape of the data to process : (2973, 14)\n",
      "Remove outliers with zscore ...\n",
      "Center and reduce inputs ...\n",
      "------------------------------------------\n",
      "Data shape after preprocessing : (2885, 14)\n",
      "Return dataset(s) ...\n",
      "Preprocessing finished\n",
      "------------------------------------------\n"
     ]
    }
   ],
   "source": [
    "from preprocessing import preprocess_data_exo2\n",
    "\n",
    "features =  ['mode', 'acousticness', 'danceability', 'duration_ms', 'energy' ,'instrumentalness',\n",
    "             'liveness', 'loudness', 'speechiness', 'tempo', 'valence', 'key']\n",
    "\n",
    "final = preprocess_data_exo2(df, features, z_score=True, standardize=True)"
   ],
   "metadata": {
    "collapsed": false,
    "pycharm": {
     "name": "#%%\n"
    }
   }
  },
  {
   "cell_type": "code",
   "execution_count": 6,
   "outputs": [
    {
     "name": "stdout",
     "output_type": "stream",
     "text": [
      "False\n"
     ]
    }
   ],
   "source": [
    "from NLP_on_genres import *\n",
    "\n",
    "print(is_there_nan_values(final))"
   ],
   "metadata": {
    "collapsed": false,
    "pycharm": {
     "name": "#%%\n"
    }
   }
  },
  {
   "cell_type": "code",
   "execution_count": 7,
   "outputs": [
    {
     "data": {
      "text/plain": "              mode  acousticness  danceability   duration_ms       energy  \\\ncount  2973.000000   2973.000000   2973.000000  2.973000e+03  2973.000000   \nmean      0.833165      0.401241      0.537187  2.517209e+05     0.561143   \nstd       0.372891      0.319760      0.150668  9.465686e+04     0.234486   \nmin       0.000000      0.000003      0.056900  3.094600e+04     0.001002   \n25%       1.000000      0.119050      0.441202  2.063788e+05     0.395058   \n50%       1.000000      0.321745      0.546496  2.375453e+05     0.601195   \n75%       1.000000      0.673991      0.647500  2.772720e+05     0.730127   \nmax       1.000000      0.996000      0.929000  2.382587e+06     0.994667   \n\n       instrumentalness     liveness     loudness  speechiness        tempo  \\\ncount       2973.000000  2973.000000  2973.000000  2973.000000  2973.000000   \nmean           0.211366     0.192800   -10.509848     0.083588   119.018723   \nstd            0.267329     0.092356     5.369202     0.080483    17.469188   \nmin            0.000000     0.022200   -41.825000     0.023800    47.135722   \n25%            0.004835     0.137687   -12.427656     0.044900   109.198143   \n50%            0.080700     0.178764    -9.221817     0.059457   119.194167   \n75%            0.343333     0.220856    -6.920125     0.091000   127.508750   \nmax            0.992000     0.960000     0.060000     0.946219   204.212000   \n\n           valence   popularity          key  \ncount  2973.000000  2973.000000  2973.000000  \nmean      0.492748    39.919185     5.938782  \nstd       0.201820    16.748723     3.368110  \nmin       0.003353     0.000000     0.000000  \n25%       0.348578    32.491279     3.000000  \n50%       0.500048    43.056569     7.000000  \n75%       0.640257    51.138889     9.000000  \nmax       0.980000    80.666667    11.000000  ",
      "text/html": "<div>\n<style scoped>\n    .dataframe tbody tr th:only-of-type {\n        vertical-align: middle;\n    }\n\n    .dataframe tbody tr th {\n        vertical-align: top;\n    }\n\n    .dataframe thead th {\n        text-align: right;\n    }\n</style>\n<table border=\"1\" class=\"dataframe\">\n  <thead>\n    <tr style=\"text-align: right;\">\n      <th></th>\n      <th>mode</th>\n      <th>acousticness</th>\n      <th>danceability</th>\n      <th>duration_ms</th>\n      <th>energy</th>\n      <th>instrumentalness</th>\n      <th>liveness</th>\n      <th>loudness</th>\n      <th>speechiness</th>\n      <th>tempo</th>\n      <th>valence</th>\n      <th>popularity</th>\n      <th>key</th>\n    </tr>\n  </thead>\n  <tbody>\n    <tr>\n      <th>count</th>\n      <td>2973.000000</td>\n      <td>2973.000000</td>\n      <td>2973.000000</td>\n      <td>2.973000e+03</td>\n      <td>2973.000000</td>\n      <td>2973.000000</td>\n      <td>2973.000000</td>\n      <td>2973.000000</td>\n      <td>2973.000000</td>\n      <td>2973.000000</td>\n      <td>2973.000000</td>\n      <td>2973.000000</td>\n      <td>2973.000000</td>\n    </tr>\n    <tr>\n      <th>mean</th>\n      <td>0.833165</td>\n      <td>0.401241</td>\n      <td>0.537187</td>\n      <td>2.517209e+05</td>\n      <td>0.561143</td>\n      <td>0.211366</td>\n      <td>0.192800</td>\n      <td>-10.509848</td>\n      <td>0.083588</td>\n      <td>119.018723</td>\n      <td>0.492748</td>\n      <td>39.919185</td>\n      <td>5.938782</td>\n    </tr>\n    <tr>\n      <th>std</th>\n      <td>0.372891</td>\n      <td>0.319760</td>\n      <td>0.150668</td>\n      <td>9.465686e+04</td>\n      <td>0.234486</td>\n      <td>0.267329</td>\n      <td>0.092356</td>\n      <td>5.369202</td>\n      <td>0.080483</td>\n      <td>17.469188</td>\n      <td>0.201820</td>\n      <td>16.748723</td>\n      <td>3.368110</td>\n    </tr>\n    <tr>\n      <th>min</th>\n      <td>0.000000</td>\n      <td>0.000003</td>\n      <td>0.056900</td>\n      <td>3.094600e+04</td>\n      <td>0.001002</td>\n      <td>0.000000</td>\n      <td>0.022200</td>\n      <td>-41.825000</td>\n      <td>0.023800</td>\n      <td>47.135722</td>\n      <td>0.003353</td>\n      <td>0.000000</td>\n      <td>0.000000</td>\n    </tr>\n    <tr>\n      <th>25%</th>\n      <td>1.000000</td>\n      <td>0.119050</td>\n      <td>0.441202</td>\n      <td>2.063788e+05</td>\n      <td>0.395058</td>\n      <td>0.004835</td>\n      <td>0.137687</td>\n      <td>-12.427656</td>\n      <td>0.044900</td>\n      <td>109.198143</td>\n      <td>0.348578</td>\n      <td>32.491279</td>\n      <td>3.000000</td>\n    </tr>\n    <tr>\n      <th>50%</th>\n      <td>1.000000</td>\n      <td>0.321745</td>\n      <td>0.546496</td>\n      <td>2.375453e+05</td>\n      <td>0.601195</td>\n      <td>0.080700</td>\n      <td>0.178764</td>\n      <td>-9.221817</td>\n      <td>0.059457</td>\n      <td>119.194167</td>\n      <td>0.500048</td>\n      <td>43.056569</td>\n      <td>7.000000</td>\n    </tr>\n    <tr>\n      <th>75%</th>\n      <td>1.000000</td>\n      <td>0.673991</td>\n      <td>0.647500</td>\n      <td>2.772720e+05</td>\n      <td>0.730127</td>\n      <td>0.343333</td>\n      <td>0.220856</td>\n      <td>-6.920125</td>\n      <td>0.091000</td>\n      <td>127.508750</td>\n      <td>0.640257</td>\n      <td>51.138889</td>\n      <td>9.000000</td>\n    </tr>\n    <tr>\n      <th>max</th>\n      <td>1.000000</td>\n      <td>0.996000</td>\n      <td>0.929000</td>\n      <td>2.382587e+06</td>\n      <td>0.994667</td>\n      <td>0.992000</td>\n      <td>0.960000</td>\n      <td>0.060000</td>\n      <td>0.946219</td>\n      <td>204.212000</td>\n      <td>0.980000</td>\n      <td>80.666667</td>\n      <td>11.000000</td>\n    </tr>\n  </tbody>\n</table>\n</div>"
     },
     "execution_count": 7,
     "metadata": {},
     "output_type": "execute_result"
    }
   ],
   "source": [
    "df.describe()"
   ],
   "metadata": {
    "collapsed": false,
    "pycharm": {
     "name": "#%%\n"
    }
   }
  },
  {
   "cell_type": "code",
   "execution_count": 8,
   "outputs": [
    {
     "data": {
      "text/plain": "              mode  acousticness  danceability  duration_ms       energy  \\\ncount  2885.000000   2885.000000   2885.000000  2885.000000  2885.000000   \nmean      0.011453     -0.017152      0.010657    -0.041137     0.012483   \nstd       0.989818      0.992100      0.988609     0.706015     0.984929   \nmin      -2.234715     -1.255020     -3.188261    -2.332763    -2.375858   \n25%       0.447484     -0.886513     -0.615944    -0.476843    -0.690067   \n50%       0.447484     -0.276089      0.062719    -0.152415     0.176878   \n75%       0.447484      0.807312      0.732282     0.262015     0.720326   \nmax       0.447484      1.857200      2.600946     3.678334     1.849135   \n\n       instrumentalness     liveness     loudness  speechiness        tempo  \\\ncount       2885.000000  2885.000000  2885.000000  2885.000000  2885.000000   \nmean          -0.012433    -0.066815     0.031118    -0.069661     0.005483   \nstd            0.980709     0.789076     0.949291     0.657887     0.944610   \nmin           -0.790792    -1.847513    -3.912689    -0.742989    -3.583066   \n25%           -0.769728    -0.594836    -0.320275    -0.480777    -0.533205   \n50%           -0.486547    -0.159510     0.260631    -0.304313     0.014696   \n75%            0.476306     0.274128     0.674177     0.076888     0.485152   \nmax            2.920611     3.917046     1.968938     3.994215     3.909871   \n\n           valence   popularity          key  \ncount  2885.000000  2885.000000  2885.000000  \nmean      0.015763    40.185275     0.002842  \nstd       0.985687    16.503536     0.998007  \nmin      -2.368588     0.000000    -1.763535  \n25%      -0.693133    32.933333    -0.872678  \n50%       0.051460    43.166667     0.315131  \n75%       0.735386    51.235294     0.909036  \nmax       2.414699    80.666667     1.502941  ",
      "text/html": "<div>\n<style scoped>\n    .dataframe tbody tr th:only-of-type {\n        vertical-align: middle;\n    }\n\n    .dataframe tbody tr th {\n        vertical-align: top;\n    }\n\n    .dataframe thead th {\n        text-align: right;\n    }\n</style>\n<table border=\"1\" class=\"dataframe\">\n  <thead>\n    <tr style=\"text-align: right;\">\n      <th></th>\n      <th>mode</th>\n      <th>acousticness</th>\n      <th>danceability</th>\n      <th>duration_ms</th>\n      <th>energy</th>\n      <th>instrumentalness</th>\n      <th>liveness</th>\n      <th>loudness</th>\n      <th>speechiness</th>\n      <th>tempo</th>\n      <th>valence</th>\n      <th>popularity</th>\n      <th>key</th>\n    </tr>\n  </thead>\n  <tbody>\n    <tr>\n      <th>count</th>\n      <td>2885.000000</td>\n      <td>2885.000000</td>\n      <td>2885.000000</td>\n      <td>2885.000000</td>\n      <td>2885.000000</td>\n      <td>2885.000000</td>\n      <td>2885.000000</td>\n      <td>2885.000000</td>\n      <td>2885.000000</td>\n      <td>2885.000000</td>\n      <td>2885.000000</td>\n      <td>2885.000000</td>\n      <td>2885.000000</td>\n    </tr>\n    <tr>\n      <th>mean</th>\n      <td>0.011453</td>\n      <td>-0.017152</td>\n      <td>0.010657</td>\n      <td>-0.041137</td>\n      <td>0.012483</td>\n      <td>-0.012433</td>\n      <td>-0.066815</td>\n      <td>0.031118</td>\n      <td>-0.069661</td>\n      <td>0.005483</td>\n      <td>0.015763</td>\n      <td>40.185275</td>\n      <td>0.002842</td>\n    </tr>\n    <tr>\n      <th>std</th>\n      <td>0.989818</td>\n      <td>0.992100</td>\n      <td>0.988609</td>\n      <td>0.706015</td>\n      <td>0.984929</td>\n      <td>0.980709</td>\n      <td>0.789076</td>\n      <td>0.949291</td>\n      <td>0.657887</td>\n      <td>0.944610</td>\n      <td>0.985687</td>\n      <td>16.503536</td>\n      <td>0.998007</td>\n    </tr>\n    <tr>\n      <th>min</th>\n      <td>-2.234715</td>\n      <td>-1.255020</td>\n      <td>-3.188261</td>\n      <td>-2.332763</td>\n      <td>-2.375858</td>\n      <td>-0.790792</td>\n      <td>-1.847513</td>\n      <td>-3.912689</td>\n      <td>-0.742989</td>\n      <td>-3.583066</td>\n      <td>-2.368588</td>\n      <td>0.000000</td>\n      <td>-1.763535</td>\n    </tr>\n    <tr>\n      <th>25%</th>\n      <td>0.447484</td>\n      <td>-0.886513</td>\n      <td>-0.615944</td>\n      <td>-0.476843</td>\n      <td>-0.690067</td>\n      <td>-0.769728</td>\n      <td>-0.594836</td>\n      <td>-0.320275</td>\n      <td>-0.480777</td>\n      <td>-0.533205</td>\n      <td>-0.693133</td>\n      <td>32.933333</td>\n      <td>-0.872678</td>\n    </tr>\n    <tr>\n      <th>50%</th>\n      <td>0.447484</td>\n      <td>-0.276089</td>\n      <td>0.062719</td>\n      <td>-0.152415</td>\n      <td>0.176878</td>\n      <td>-0.486547</td>\n      <td>-0.159510</td>\n      <td>0.260631</td>\n      <td>-0.304313</td>\n      <td>0.014696</td>\n      <td>0.051460</td>\n      <td>43.166667</td>\n      <td>0.315131</td>\n    </tr>\n    <tr>\n      <th>75%</th>\n      <td>0.447484</td>\n      <td>0.807312</td>\n      <td>0.732282</td>\n      <td>0.262015</td>\n      <td>0.720326</td>\n      <td>0.476306</td>\n      <td>0.274128</td>\n      <td>0.674177</td>\n      <td>0.076888</td>\n      <td>0.485152</td>\n      <td>0.735386</td>\n      <td>51.235294</td>\n      <td>0.909036</td>\n    </tr>\n    <tr>\n      <th>max</th>\n      <td>0.447484</td>\n      <td>1.857200</td>\n      <td>2.600946</td>\n      <td>3.678334</td>\n      <td>1.849135</td>\n      <td>2.920611</td>\n      <td>3.917046</td>\n      <td>1.968938</td>\n      <td>3.994215</td>\n      <td>3.909871</td>\n      <td>2.414699</td>\n      <td>80.666667</td>\n      <td>1.502941</td>\n    </tr>\n  </tbody>\n</table>\n</div>"
     },
     "execution_count": 8,
     "metadata": {},
     "output_type": "execute_result"
    }
   ],
   "source": [
    "final.describe()"
   ],
   "metadata": {
    "collapsed": false,
    "pycharm": {
     "name": "#%%\n"
    }
   }
  },
  {
   "cell_type": "code",
   "execution_count": 9,
   "outputs": [],
   "source": [
    "final_NLP = transform_genres(final)"
   ],
   "metadata": {
    "collapsed": false,
    "pycharm": {
     "name": "#%%\n"
    }
   }
  }
 ],
 "metadata": {
  "kernelspec": {
   "name": "pycharm-b574e03b",
   "language": "python",
   "display_name": "PyCharm (scientificProject)"
  },
  "language_info": {
   "codemirror_mode": {
    "name": "ipython",
    "version": 2
   },
   "file_extension": ".py",
   "mimetype": "text/x-python",
   "name": "python",
   "nbconvert_exporter": "python",
   "pygments_lexer": "ipython2",
   "version": "2.7.6"
  }
 },
 "nbformat": 4,
 "nbformat_minor": 0
}