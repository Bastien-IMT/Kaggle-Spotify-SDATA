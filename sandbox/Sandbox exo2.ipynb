{
 "cells": [
  {
   "cell_type": "code",
   "execution_count": 1,
   "metadata": {
    "collapsed": true
   },
   "outputs": [],
   "source": [
    "import numpy as np\n",
    "import pandas as pd\n"
   ]
  },
  {
   "cell_type": "code",
   "execution_count": 2,
   "outputs": [
    {
     "data": {
      "text/plain": "   mode                  genres  acousticness  danceability   duration_ms  \\\n0     1  21st century classical      0.979333      0.162883  1.602977e+05   \n1     1                   432hz      0.494780      0.299333  1.048887e+06   \n2     1                   8-bit      0.762000      0.712000  1.151770e+05   \n3     1                      []      0.651417      0.529093  2.328809e+05   \n4     1              a cappella      0.676557      0.538961  1.906285e+05   \n\n     energy  instrumentalness  liveness   loudness  speechiness       tempo  \\\n0  0.071317          0.606834  0.361600 -31.514333     0.040567   75.336500   \n1  0.450678          0.477762  0.131000 -16.854000     0.076817  120.285667   \n2  0.818000          0.876000  0.126000  -9.180000     0.047000  133.444000   \n3  0.419146          0.205309  0.218696 -12.288965     0.107872  112.857352   \n4  0.316434          0.003003  0.172254 -12.479387     0.082851  112.110362   \n\n    valence  popularity  key  \n0  0.103783   27.833333    6  \n1  0.221750   52.500000    5  \n2  0.975000   48.000000    7  \n3  0.513604   20.859882    7  \n4  0.448249   45.820071    7  ",
      "text/html": "<div>\n<style scoped>\n    .dataframe tbody tr th:only-of-type {\n        vertical-align: middle;\n    }\n\n    .dataframe tbody tr th {\n        vertical-align: top;\n    }\n\n    .dataframe thead th {\n        text-align: right;\n    }\n</style>\n<table border=\"1\" class=\"dataframe\">\n  <thead>\n    <tr style=\"text-align: right;\">\n      <th></th>\n      <th>mode</th>\n      <th>genres</th>\n      <th>acousticness</th>\n      <th>danceability</th>\n      <th>duration_ms</th>\n      <th>energy</th>\n      <th>instrumentalness</th>\n      <th>liveness</th>\n      <th>loudness</th>\n      <th>speechiness</th>\n      <th>tempo</th>\n      <th>valence</th>\n      <th>popularity</th>\n      <th>key</th>\n    </tr>\n  </thead>\n  <tbody>\n    <tr>\n      <th>0</th>\n      <td>1</td>\n      <td>21st century classical</td>\n      <td>0.979333</td>\n      <td>0.162883</td>\n      <td>1.602977e+05</td>\n      <td>0.071317</td>\n      <td>0.606834</td>\n      <td>0.361600</td>\n      <td>-31.514333</td>\n      <td>0.040567</td>\n      <td>75.336500</td>\n      <td>0.103783</td>\n      <td>27.833333</td>\n      <td>6</td>\n    </tr>\n    <tr>\n      <th>1</th>\n      <td>1</td>\n      <td>432hz</td>\n      <td>0.494780</td>\n      <td>0.299333</td>\n      <td>1.048887e+06</td>\n      <td>0.450678</td>\n      <td>0.477762</td>\n      <td>0.131000</td>\n      <td>-16.854000</td>\n      <td>0.076817</td>\n      <td>120.285667</td>\n      <td>0.221750</td>\n      <td>52.500000</td>\n      <td>5</td>\n    </tr>\n    <tr>\n      <th>2</th>\n      <td>1</td>\n      <td>8-bit</td>\n      <td>0.762000</td>\n      <td>0.712000</td>\n      <td>1.151770e+05</td>\n      <td>0.818000</td>\n      <td>0.876000</td>\n      <td>0.126000</td>\n      <td>-9.180000</td>\n      <td>0.047000</td>\n      <td>133.444000</td>\n      <td>0.975000</td>\n      <td>48.000000</td>\n      <td>7</td>\n    </tr>\n    <tr>\n      <th>3</th>\n      <td>1</td>\n      <td>[]</td>\n      <td>0.651417</td>\n      <td>0.529093</td>\n      <td>2.328809e+05</td>\n      <td>0.419146</td>\n      <td>0.205309</td>\n      <td>0.218696</td>\n      <td>-12.288965</td>\n      <td>0.107872</td>\n      <td>112.857352</td>\n      <td>0.513604</td>\n      <td>20.859882</td>\n      <td>7</td>\n    </tr>\n    <tr>\n      <th>4</th>\n      <td>1</td>\n      <td>a cappella</td>\n      <td>0.676557</td>\n      <td>0.538961</td>\n      <td>1.906285e+05</td>\n      <td>0.316434</td>\n      <td>0.003003</td>\n      <td>0.172254</td>\n      <td>-12.479387</td>\n      <td>0.082851</td>\n      <td>112.110362</td>\n      <td>0.448249</td>\n      <td>45.820071</td>\n      <td>7</td>\n    </tr>\n  </tbody>\n</table>\n</div>"
     },
     "execution_count": 2,
     "metadata": {},
     "output_type": "execute_result"
    }
   ],
   "source": [
    "df = pd.read_csv('../data/Spotify_exo2.csv')\n",
    "df.head()"
   ],
   "metadata": {
    "collapsed": false,
    "pycharm": {
     "name": "#%%\n"
    }
   }
  },
  {
   "cell_type": "code",
   "execution_count": 15,
   "outputs": [
    {
     "name": "stdout",
     "output_type": "stream",
     "text": [
      "<class 'pandas.core.frame.DataFrame'>\n",
      "Int64Index: 2972 entries, 0 to 2972\n",
      "Data columns (total 14 columns):\n",
      " #   Column            Non-Null Count  Dtype  \n",
      "---  ------            --------------  -----  \n",
      " 0   mode              2972 non-null   int64  \n",
      " 1   genres            2972 non-null   object \n",
      " 2   acousticness      2972 non-null   float64\n",
      " 3   danceability      2972 non-null   float64\n",
      " 4   duration_ms       2972 non-null   float64\n",
      " 5   energy            2972 non-null   float64\n",
      " 6   instrumentalness  2972 non-null   float64\n",
      " 7   liveness          2972 non-null   float64\n",
      " 8   loudness          2972 non-null   float64\n",
      " 9   speechiness       2972 non-null   float64\n",
      " 10  tempo             2972 non-null   float64\n",
      " 11  valence           2972 non-null   float64\n",
      " 12  popularity        2972 non-null   float64\n",
      " 13  key               2972 non-null   int64  \n",
      "dtypes: float64(11), int64(2), object(1)\n",
      "memory usage: 348.3+ KB\n",
      "              mode  acousticness  danceability   duration_ms       energy  \\\n",
      "count  2972.000000   2972.000000   2972.000000  2.972000e+03  2972.000000   \n",
      "mean      0.833109      0.401157      0.537190  2.517272e+05     0.561190   \n",
      "std       0.372941      0.319781      0.150693  9.467215e+04     0.234511   \n",
      "min       0.000000      0.000003      0.056900  3.094600e+04     0.001002   \n",
      "25%       1.000000      0.119036      0.441169  2.063674e+05     0.395030   \n",
      "50%       1.000000      0.321706      0.546511  2.375479e+05     0.601264   \n",
      "75%       1.000000      0.674088      0.647536  2.773008e+05     0.730202   \n",
      "max       1.000000      0.996000      0.929000  2.382587e+06     0.994667   \n",
      "\n",
      "       instrumentalness     liveness     loudness  speechiness        tempo  \\\n",
      "count       2972.000000  2972.000000  2972.000000  2972.000000  2972.000000   \n",
      "mean           0.211368     0.192791   -10.509249     0.083580   119.020796   \n",
      "std            0.267374     0.092370     5.370006     0.080495    17.471762   \n",
      "min            0.000000     0.022200   -41.825000     0.023800    47.135722   \n",
      "25%            0.004829     0.137682   -12.428814     0.044900   109.191107   \n",
      "50%            0.080663     0.178752    -9.219409     0.059432   119.199333   \n",
      "75%            0.343333     0.220858    -6.919969     0.091000   127.510813   \n",
      "max            0.992000     0.960000     0.060000     0.946219   204.212000   \n",
      "\n",
      "           valence   popularity          key  \n",
      "count  2972.000000  2972.000000  2972.000000  \n",
      "mean      0.492741    39.925598     5.938425  \n",
      "std       0.201853    16.747890     3.368621  \n",
      "min       0.003353     0.000000     0.000000  \n",
      "25%       0.348558    32.531911     3.000000  \n",
      "50%       0.499936    43.059365     7.000000  \n",
      "75%       0.640380    51.139881     9.000000  \n",
      "max       0.980000    80.666667    11.000000  \n",
      "\n",
      "NaN Values:\n",
      "mode                0\n",
      "genres              0\n",
      "acousticness        0\n",
      "danceability        0\n",
      "duration_ms         0\n",
      "energy              0\n",
      "instrumentalness    0\n",
      "liveness            0\n",
      "loudness            0\n",
      "speechiness         0\n",
      "tempo               0\n",
      "valence             0\n",
      "popularity          0\n",
      "key                 0\n",
      "dtype: int64\n",
      "0\n"
     ]
    }
   ],
   "source": [
    "df.info()\n",
    "print(df.describe())\n",
    "\n",
    "print(f'\\nNaN Values:\\n{df.isnull().sum()}')\n",
    "print(np.sum(df.isnull().sum()))\n",
    "df = df[df.genres != '[]']\n",
    "\n",
    "columns = df.columns.values\n",
    "target = \"popularity\"\n",
    "features = np.delete(columns, np.argwhere(columns==target))\n",
    "\n",
    "X = df[features]\n",
    "y = df[target]"
   ],
   "metadata": {
    "collapsed": false,
    "pycharm": {
     "name": "#%%\n"
    }
   }
  },
  {
   "cell_type": "markdown",
   "source": [
    "### Handling with genres"
   ],
   "metadata": {
    "collapsed": false,
    "pycharm": {
     "name": "#%% md\n"
    }
   }
  },
  {
   "cell_type": "code",
   "execution_count": 4,
   "outputs": [
    {
     "name": "stdout",
     "output_type": "stream",
     "text": [
      "2972\n",
      "2972\n"
     ]
    }
   ],
   "source": [
    "genres = np.array(X.genres)\n",
    "print(len(genres))\n",
    "print(len(np.unique(genres)))"
   ],
   "metadata": {
    "collapsed": false,
    "pycharm": {
     "name": "#%%\n"
    }
   }
  },
  {
   "cell_type": "code",
   "execution_count": 5,
   "outputs": [],
   "source": [
    "# from sklearn.feature_extraction.text import CountVectorizer\n",
    "#\n",
    "# text = [\"i love nlp. nlp is so cool\"]\n",
    "# vectorizer = CountVectorizer()\n",
    "#\n",
    "# # tokenize and build vocab\n",
    "# vectorizer.fit(text)\n",
    "# print(vectorizer.vocabulary_)\n",
    "# # encode document\n",
    "#\n",
    "# vector = vectorizer.transform(text)\n",
    "# # summarize encoded vector\n",
    "#\n",
    "# print(vector.shape) # Output: (1, 5)\n",
    "# print(vector.toarray())\n"
   ],
   "metadata": {
    "collapsed": false,
    "pycharm": {
     "name": "#%%\n"
    }
   }
  },
  {
   "cell_type": "code",
   "execution_count": 6,
   "outputs": [],
   "source": [
    "from sklearn.feature_extraction.text import CountVectorizer\n",
    "\n",
    "lexique = list()\n",
    "\n",
    "for genre in genres:\n",
    "    for mot in genre.split(sep=' '):\n",
    "        lexique.append(mot)\n",
    "\n",
    "lexique = np.array(lexique)\n",
    "unique = np.unique(lexique)\n",
    "\n",
    "vectorizer = CountVectorizer(strip_accents='unicode')\n",
    "\n",
    "# tokenize and build vocab\n",
    "vectorizer.fit(unique)\n",
    "# print(vectorizer.vocabulary_)\n",
    "\n",
    "test = vectorizer.transform(genres)\n",
    "\n",
    "cool = test.toarray()"
   ],
   "metadata": {
    "collapsed": false,
    "pycharm": {
     "name": "#%%\n"
    }
   }
  },
  {
   "cell_type": "code",
   "execution_count": 8,
   "outputs": [],
   "source": [
    "def getKeysByValue(dictOfElements, valueToFind):\n",
    "    listOfKeys = list()\n",
    "    listOfItems = dictOfElements.items()\n",
    "    for item  in listOfItems:\n",
    "        if item[1] == valueToFind:\n",
    "            listOfKeys.append(item[0])\n",
    "    return  listOfKeys\n",
    "\n",
    "\n",
    "col_names = list()\n",
    "\n",
    "for i in range(len(vectorizer.vocabulary_)):\n",
    "    col_names.append(getKeysByValue(vectorizer.vocabulary_, i)[0])\n",
    "\n",
    "\n",
    "df_genres = pd.DataFrame(cool, columns=col_names)"
   ],
   "metadata": {
    "collapsed": false,
    "pycharm": {
     "name": "#%%\n"
    }
   }
  },
  {
   "cell_type": "code",
   "execution_count": 9,
   "outputs": [],
   "source": [
    "res_comp = list()\n",
    "\n",
    "for k in range(len(genres)):\n",
    "    mot_mystere = np.array(df_genres.loc[k])\n",
    "    indexes = np.where(mot_mystere != 0)[0]\n",
    "    trouve = \"\"\n",
    "    for i in indexes:\n",
    "        trouve += getKeysByValue(vectorizer.vocabulary_, i)[0]+\" \"\n",
    "    trouve = trouve[:-1]\n",
    "\n",
    "    res_comp.append((trouve, genres[k]))"
   ],
   "metadata": {
    "collapsed": false,
    "pycharm": {
     "name": "#%%\n"
    }
   }
  },
  {
   "cell_type": "code",
   "execution_count": 10,
   "outputs": [],
   "source": [
    "wrong_reconstitution = [(res[0], res[1]) for res in res_comp if res[0] != res[1]]"
   ],
   "metadata": {
    "collapsed": false,
    "pycharm": {
     "name": "#%%\n"
    }
   }
  },
  {
   "cell_type": "code",
   "execution_count": 11,
   "outputs": [],
   "source": [
    "df_genres.insert(0, \"genres\", genres)"
   ],
   "metadata": {
    "collapsed": false,
    "pycharm": {
     "name": "#%%\n"
    }
   }
  },
  {
   "cell_type": "code",
   "execution_count": 12,
   "outputs": [
    {
     "name": "stdout",
     "output_type": "stream",
     "text": [
      "(2972, 1633)\n",
      "(2972, 14)\n"
     ]
    }
   ],
   "source": [
    "print(df_genres.shape)\n",
    "print(df.shape)"
   ],
   "metadata": {
    "collapsed": false,
    "pycharm": {
     "name": "#%%\n"
    }
   }
  },
  {
   "cell_type": "markdown",
   "source": [
    "## Merge 2 dataframes"
   ],
   "metadata": {
    "collapsed": false,
    "pycharm": {
     "name": "#%% md\n",
     "is_executing": true
    }
   }
  },
  {
   "cell_type": "code",
   "execution_count": null,
   "outputs": [],
   "source": [
    "dfinal = df.merge(df_genres, on=\"genres\", how = 'inner')"
   ],
   "metadata": {
    "collapsed": false,
    "pycharm": {
     "name": "#%%\n"
    }
   }
  }
 ],
 "metadata": {
  "kernelspec": {
   "name": "pycharm-b574e03b",
   "language": "python",
   "display_name": "PyCharm (scientificProject)"
  },
  "language_info": {
   "codemirror_mode": {
    "name": "ipython",
    "version": 2
   },
   "file_extension": ".py",
   "mimetype": "text/x-python",
   "name": "python",
   "nbconvert_exporter": "python",
   "pygments_lexer": "ipython2",
   "version": "2.7.6"
  }
 },
 "nbformat": 4,
 "nbformat_minor": 0
}