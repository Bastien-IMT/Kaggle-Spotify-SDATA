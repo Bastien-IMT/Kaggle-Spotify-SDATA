{
 "cells": [
  {
   "cell_type": "code",
   "execution_count": 1,
   "metadata": {
    "collapsed": true
   },
   "outputs": [],
   "source": [
    "from preprocessing import preprocess_data\n",
    "import pandas as pd\n",
    "import seaborn as sns\n",
    "import matplotlib.pyplot as plt\n",
    "import numpy as np\n",
    "import warnings"
   ]
  },
  {
   "cell_type": "code",
   "execution_count": 2,
   "outputs": [],
   "source": [
    "warnings.filterwarnings(\"ignore\")"
   ],
   "metadata": {
    "collapsed": false,
    "pycharm": {
     "name": "#%%\n"
    }
   }
  },
  {
   "cell_type": "code",
   "execution_count": 3,
   "outputs": [
    {
     "name": "stdout",
     "output_type": "stream",
     "text": [
      "------------------------------------------\n",
      "            Preprocessing data            \n",
      "------------------------------------------\n",
      "Get dataset\n",
      "Shape of the data to process : (31728, 20)\n",
      "------------------------------------------\n",
      "Extract labels ...\n",
      "Encode labels ...\n",
      "Extract inputs ...\n",
      "Remove outliers with zscore ...\n",
      "Center and reduce inputs ...\n",
      "------------------------------------------\n",
      "Data shape after preprocessing : (30878, 13)\n",
      "Labels shape : (30878,)\n",
      "Return dataset(s) ...\n",
      "Preprocessing finished\n",
      "------------------------------------------\n"
     ]
    }
   ],
   "source": [
    "df1 = pd.read_csv('data/Spotify_train_dataset.csv')\n",
    "\n",
    "features_columns = ['danceability', 'energy', 'key', 'loudness', 'mode',\n",
    "        'speechiness', 'acousticness', 'instrumentalness', 'liveness',\n",
    "        'valence', 'tempo', 'duration_ms', 'time_signature']\n",
    "label = ['genre']\n",
    "df1, df1_labels = preprocess_data(df1, features_columns, label, z_score=True, standardize=True)"
   ],
   "metadata": {
    "collapsed": false,
    "pycharm": {
     "name": "#%%\n"
    }
   }
  },
  {
   "cell_type": "code",
   "execution_count": 4,
   "outputs": [
    {
     "name": "stdout",
     "output_type": "stream",
     "text": [
      "   danceability    energy       key  loudness      mode  speechiness  \\\n",
      "0     -1.235105  0.228703  0.168868  1.073662  0.909154    -0.410316   \n",
      "1     -0.149459 -0.647270 -0.104132 -2.806493 -1.099924     2.405405   \n",
      "2      0.351609  0.720379  0.441868  0.169510  0.909154    -0.215812   \n",
      "3      0.820557 -1.483683 -1.469134 -1.867580  0.909154    -0.740055   \n",
      "4     -1.549879 -0.522938  1.533870 -0.257204 -1.099924    -0.343534   \n",
      "\n",
      "   acousticness  instrumentalness  liveness   valence     tempo  duration_ms  \\\n",
      "0     -0.564894          1.579096 -0.598304 -1.036105 -0.201161    -0.174022   \n",
      "1      0.961796          1.546871 -0.592411 -0.775609 -0.813106     1.091734   \n",
      "2     -0.468921          1.552242 -0.639557  0.906937 -0.811085     2.478069   \n",
      "3     -0.562232         -0.773335 -0.756244 -1.091620 -1.147724    -0.196102   \n",
      "4      1.180226         -0.773274  0.639283 -0.015474  0.963121    -0.703465   \n",
      "\n",
      "   time_signature  \n",
      "0        0.079037  \n",
      "1        0.079037  \n",
      "2        0.079037  \n",
      "3        0.079037  \n",
      "4        0.079037  \n",
      "<class 'pandas.core.frame.DataFrame'>\n",
      "RangeIndex: 30878 entries, 0 to 30877\n",
      "Data columns (total 13 columns):\n",
      " #   Column            Non-Null Count  Dtype  \n",
      "---  ------            --------------  -----  \n",
      " 0   danceability      30878 non-null  float64\n",
      " 1   energy            30878 non-null  float64\n",
      " 2   key               30878 non-null  float64\n",
      " 3   loudness          30878 non-null  float64\n",
      " 4   mode              30878 non-null  float64\n",
      " 5   speechiness       30878 non-null  float64\n",
      " 6   acousticness      30878 non-null  float64\n",
      " 7   instrumentalness  30878 non-null  float64\n",
      " 8   liveness          30878 non-null  float64\n",
      " 9   valence           30878 non-null  float64\n",
      " 10  tempo             30878 non-null  float64\n",
      " 11  duration_ms       30878 non-null  float64\n",
      " 12  time_signature    30878 non-null  float64\n",
      "dtypes: float64(13)\n",
      "memory usage: 3.1 MB\n",
      "None\n"
     ]
    }
   ],
   "source": [
    "print(df1.head())\n",
    "print(df1.info())"
   ],
   "metadata": {
    "collapsed": false,
    "pycharm": {
     "name": "#%% head and infos of dataframe\n"
    }
   }
  },
  {
   "cell_type": "code",
   "execution_count": 5,
   "outputs": [
    {
     "ename": "IndexError",
     "evalue": "only integers, slices (`:`), ellipsis (`...`), numpy.newaxis (`None`) and integer or boolean arrays are valid indices",
     "output_type": "error",
     "traceback": [
      "\u001B[1;31m---------------------------------------------------------------------------\u001B[0m",
      "\u001B[1;31mIndexError\u001B[0m                                Traceback (most recent call last)",
      "\u001B[1;32m<ipython-input-5-c37964aaea58>\u001B[0m in \u001B[0;36m<module>\u001B[1;34m\u001B[0m\n\u001B[0;32m      1\u001B[0m \u001B[1;31m#Get repartition of song on each genres\u001B[0m\u001B[1;33m\u001B[0m\u001B[1;33m\u001B[0m\u001B[1;33m\u001B[0m\u001B[0m\n\u001B[0;32m      2\u001B[0m \u001B[0mindex\u001B[0m \u001B[1;33m=\u001B[0m \u001B[1;33m[\u001B[0m\u001B[0mi\u001B[0m \u001B[1;32mfor\u001B[0m \u001B[0mi\u001B[0m \u001B[1;32min\u001B[0m \u001B[0mrange\u001B[0m\u001B[1;33m(\u001B[0m\u001B[1;36m15\u001B[0m\u001B[1;33m)\u001B[0m\u001B[1;33m]\u001B[0m\u001B[1;33m\u001B[0m\u001B[1;33m\u001B[0m\u001B[0m\n\u001B[1;32m----> 3\u001B[1;33m \u001B[0mgenre_repartition\u001B[0m \u001B[1;33m=\u001B[0m \u001B[0mdf1_labels\u001B[0m\u001B[1;33m[\u001B[0m\u001B[1;34m\"genre\"\u001B[0m\u001B[1;33m]\u001B[0m\u001B[1;33m.\u001B[0m\u001B[0mvalue_counts\u001B[0m\u001B[1;33m(\u001B[0m\u001B[1;33m)\u001B[0m\u001B[1;33m.\u001B[0m\u001B[0msort_index\u001B[0m\u001B[1;33m(\u001B[0m\u001B[1;33m)\u001B[0m\u001B[1;33m.\u001B[0m\u001B[0mto_numpy\u001B[0m\u001B[1;33m(\u001B[0m\u001B[1;33m)\u001B[0m\u001B[1;33m\u001B[0m\u001B[1;33m\u001B[0m\u001B[0m\n\u001B[0m\u001B[0;32m      4\u001B[0m \u001B[1;33m\u001B[0m\u001B[0m\n\u001B[0;32m      5\u001B[0m \u001B[0mf\u001B[0m\u001B[1;33m,\u001B[0m \u001B[0max\u001B[0m \u001B[1;33m=\u001B[0m \u001B[0mplt\u001B[0m\u001B[1;33m.\u001B[0m\u001B[0msubplots\u001B[0m\u001B[1;33m(\u001B[0m\u001B[0mfigsize\u001B[0m\u001B[1;33m=\u001B[0m\u001B[1;33m(\u001B[0m\u001B[1;36m9\u001B[0m\u001B[1;33m,\u001B[0m \u001B[1;36m6\u001B[0m\u001B[1;33m)\u001B[0m\u001B[1;33m)\u001B[0m\u001B[1;33m\u001B[0m\u001B[1;33m\u001B[0m\u001B[0m\n",
      "\u001B[1;31mIndexError\u001B[0m: only integers, slices (`:`), ellipsis (`...`), numpy.newaxis (`None`) and integer or boolean arrays are valid indices"
     ]
    }
   ],
   "source": [
    "#Get repartition of song on each genres\n",
    "index = [i for i in range(15)]\n",
    "genre_repartition = df1_labels[\"genre\"].value_counts().sort_index().to_numpy()\n",
    "\n",
    "f, ax = plt.subplots(figsize=(9, 6))\n",
    "bar = sns.barplot(x=index, y=genre_repartition)\n",
    "plt.title(\"Repartition of songs on each genres\")\n",
    "plt.xlabel(\"Genre\")\n",
    "plt.ylabel(\"Number of songs\")\n",
    "plt.show()"
   ],
   "metadata": {
    "collapsed": false,
    "pycharm": {
     "name": "#%%\n"
    }
   }
  },
  {
   "cell_type": "code",
   "execution_count": null,
   "outputs": [],
   "source": [
    "sns.distplot(df1_labels['genre'])\n",
    "plt.suptitle('Genres Distribution')\n",
    "plt.show()"
   ],
   "metadata": {
    "collapsed": false,
    "pycharm": {
     "name": "#%% Density of genre column\n"
    }
   }
  },
  {
   "cell_type": "code",
   "execution_count": null,
   "outputs": [],
   "source": [
    "corr = df1.corr()\n",
    "\n",
    "# Generate a mask for the upper triangle\n",
    "mask = np.triu(np.ones_like(corr, dtype=bool))\n",
    "\n",
    "# Set up the matplotlib figure\n",
    "f, ax = plt.subplots(figsize=(11, 9))\n",
    "\n",
    "# Generate a custom diverging colormap\n",
    "cmap = sns.diverging_palette(230, 20, as_cmap=True)\n",
    "\n",
    "# Draw the heatmap with the mask and correct aspect ratio\n",
    "heatmap = sns.heatmap(corr, mask=mask, cmap=cmap, vmax=.3, center=0,\n",
    "            square=True, linewidths=.5, cbar_kws={\"shrink\": .5}, annot=True)\n",
    "heatmap.set_title('Correlation Heatmap df1', fontdict={'fontsize':12}, pad=12);\n",
    "plt.show()\n",
    "\n",
    "#Cercle de correlation\n",
    "corvar = pd.DataFrame.to_numpy(corr)\n",
    "fig, axes = plt.subplots(figsize=(10,10))\n",
    "axes.set_xlim(-1,1)\n",
    "axes.set_ylim(-1,1)\n",
    "X = df1\n",
    "for j in range(13):\n",
    "   plt.annotate(X.columns[j],(corvar[j,0],corvar[j,1]))\n",
    "plt.plot([-1,1],[0,0],color='red',linestyle='-',linewidth=1)\n",
    "plt.plot([0,0],[-1,1],color='red',linestyle='-',linewidth=1)\n",
    "cercle = plt.Circle((0,0),1,color='blue',fill=False)\n",
    "axes.add_artist(cercle)\n",
    "plt.title('Cercle de corrélation\\n', fontsize=20, color='red')\n",
    "plt.show()"
   ],
   "metadata": {
    "collapsed": false,
    "pycharm": {
     "name": "#%% Analyse correlation\n"
    }
   }
  },
  {
   "cell_type": "code",
   "execution_count": null,
   "outputs": [],
   "source": [
    "# pairplot = sns.pairplot(df1)\n",
    "# plt.show()"
   ],
   "metadata": {
    "collapsed": false,
    "pycharm": {
     "name": "#%%\n"
    }
   }
  },
  {
   "cell_type": "code",
   "execution_count": null,
   "outputs": [],
   "source": [
    "plt.hist(df1[\"danceability\"])\n",
    "plt.show()\n",
    "sns.kdeplot(df1[\"danceability\"])"
   ],
   "metadata": {
    "collapsed": false,
    "pycharm": {
     "name": "#%%\n"
    }
   }
  },
  {
   "cell_type": "code",
   "execution_count": null,
   "outputs": [],
   "source": [
    "with sns.axes_style('white'):\n",
    "    sns.jointplot(x=df1[\"danceability\"],y=df1_labels[\"genre\"], kind='kde');"
   ],
   "metadata": {
    "collapsed": false,
    "pycharm": {
     "name": "#%%\n"
    }
   }
  }
 ],
 "metadata": {
  "kernelspec": {
   "display_name": "Python 3",
   "language": "python",
   "name": "python3"
  },
  "language_info": {
   "codemirror_mode": {
    "name": "ipython",
    "version": 2
   },
   "file_extension": ".py",
   "mimetype": "text/x-python",
   "name": "python",
   "nbconvert_exporter": "python",
   "pygments_lexer": "ipython2",
   "version": "2.7.6"
  }
 },
 "nbformat": 4,
 "nbformat_minor": 0
}