{
 "cells": [
  {
   "cell_type": "code",
   "execution_count": 1,
   "metadata": {
    "collapsed": true
   },
   "outputs": [],
   "source": [
    "import numpy as np\n",
    "import matplotlib.pyplot as plt"
   ]
  },
  {
   "cell_type": "code",
   "execution_count": 2,
   "outputs": [
    {
     "data": {
      "text/plain": "<Figure size 432x288 with 1 Axes>",
      "image/png": "[encoded data removed]"
     },
     "metadata": {
      "needs_background": "light"
     },
     "output_type": "display_data"
    }
   ],
   "source": [
    "plt.hist([np.random.normal(0,1) for _ in range(50000)])\n",
    "plt.show()"
   ],
   "metadata": {
    "collapsed": false,
    "pycharm": {
     "name": "#%%\n"
    }
   }
  },
  {
   "cell_type": "code",
   "execution_count": 6,
   "outputs": [
    {
     "data": {
      "text/plain": "   danceability  energy  key  loudness  mode  speechiness  acousticness  \\\n0         0.449   0.809    6    -3.366     1       0.0847       0.00234   \n1         0.618   0.654    5   -14.305     0       0.4220       0.22600   \n2         0.696   0.896    7    -5.915     1       0.1080       0.01640   \n3         0.769   0.506    0   -11.658     1       0.0452       0.00273   \n4         0.400   0.676   11    -7.118     0       0.0927       0.25800   \n\n   instrumentalness  liveness  valence    tempo            type  \\\n0          0.876000    0.1100    0.115  142.490  audio_features   \n1          0.864000    0.1110    0.176  127.953  audio_features   \n2          0.866000    0.1030    0.570  128.001  audio_features   \n3          0.000000    0.0832    0.102  120.004  audio_features   \n4          0.000023    0.3200    0.354  170.148  audio_features   \n\n                       id                                   uri  \\\n0  15iEkKqQPgXjtHrvvL4Gvb  spotify:track:15iEkKqQPgXjtHrvvL4Gvb   \n1  2kLaJQILsNVOyiZvn8XaEc  spotify:track:2kLaJQILsNVOyiZvn8XaEc   \n2  5nBuY24pWqH3GoavwlGd4P  spotify:track:5nBuY24pWqH3GoavwlGd4P   \n3  6GZRum7yJqfnGZGfIcGIaq  spotify:track:6GZRum7yJqfnGZGfIcGIaq   \n4  5mZb9Kbl0uWhIS6RW47IHC  spotify:track:5mZb9Kbl0uWhIS6RW47IHC   \n\n                                          track_href  \\\n0  https://api.spotify.com/v1/tracks/15iEkKqQPgXj...   \n1  https://api.spotify.com/v1/tracks/2kLaJQILsNVO...   \n2  https://api.spotify.com/v1/tracks/5nBuY24pWqH3...   \n3  https://api.spotify.com/v1/tracks/6GZRum7yJqfn...   \n4  https://api.spotify.com/v1/tracks/5mZb9Kbl0uWh...   \n\n                                        analysis_url  duration_ms  \\\n0  https://api.spotify.com/v1/audio-analysis/15iE...       234310   \n1  https://api.spotify.com/v1/audio-analysis/2kLa...       364098   \n2  https://api.spotify.com/v1/audio-analysis/5nBu...       506250   \n3  https://api.spotify.com/v1/audio-analysis/6GZR...       232046   \n4  https://api.spotify.com/v1/audio-analysis/5mZb...       180022   \n\n   time_signature               song_name            genre  \n0               4                     NaN             trap  \n1               4                     NaN           techno  \n2               4                     NaN           techno  \n3               4             $UICIDEWAVE        Dark Trap  \n4               4  TR666 (feat. Swae Lee)  Underground Rap  ",
      "text/html": "<div>\n<style scoped>\n    .dataframe tbody tr th:only-of-type {\n        vertical-align: middle;\n    }\n\n    .dataframe tbody tr th {\n        vertical-align: top;\n    }\n\n    .dataframe thead th {\n        text-align: right;\n    }\n</style>\n<table border=\"1\" class=\"dataframe\">\n  <thead>\n    <tr style=\"text-align: right;\">\n      <th></th>\n      <th>danceability</th>\n      <th>energy</th>\n      <th>key</th>\n      <th>loudness</th>\n      <th>mode</th>\n      <th>speechiness</th>\n      <th>acousticness</th>\n      <th>instrumentalness</th>\n      <th>liveness</th>\n      <th>valence</th>\n      <th>tempo</th>\n      <th>type</th>\n      <th>id</th>\n      <th>uri</th>\n      <th>track_href</th>\n      <th>analysis_url</th>\n      <th>duration_ms</th>\n      <th>time_signature</th>\n      <th>song_name</th>\n      <th>genre</th>\n    </tr>\n  </thead>\n  <tbody>\n    <tr>\n      <th>0</th>\n      <td>0.449</td>\n      <td>0.809</td>\n      <td>6</td>\n      <td>-3.366</td>\n      <td>1</td>\n      <td>0.0847</td>\n      <td>0.00234</td>\n      <td>0.876000</td>\n      <td>0.1100</td>\n      <td>0.115</td>\n      <td>142.490</td>\n      <td>audio_features</td>\n      <td>15iEkKqQPgXjtHrvvL4Gvb</td>\n      <td>spotify:track:15iEkKqQPgXjtHrvvL4Gvb</td>\n      <td>https://api.spotify.com/v1/tracks/15iEkKqQPgXj...</td>\n      <td>https://api.spotify.com/v1/audio-analysis/15iE...</td>\n      <td>234310</td>\n      <td>4</td>\n      <td>NaN</td>\n      <td>trap</td>\n    </tr>\n    <tr>\n      <th>1</th>\n      <td>0.618</td>\n      <td>0.654</td>\n      <td>5</td>\n      <td>-14.305</td>\n      <td>0</td>\n      <td>0.4220</td>\n      <td>0.22600</td>\n      <td>0.864000</td>\n      <td>0.1110</td>\n      <td>0.176</td>\n      <td>127.953</td>\n      <td>audio_features</td>\n      <td>2kLaJQILsNVOyiZvn8XaEc</td>\n      <td>spotify:track:2kLaJQILsNVOyiZvn8XaEc</td>\n      <td>https://api.spotify.com/v1/tracks/2kLaJQILsNVO...</td>\n      <td>https://api.spotify.com/v1/audio-analysis/2kLa...</td>\n      <td>364098</td>\n      <td>4</td>\n      <td>NaN</td>\n      <td>techno</td>\n    </tr>\n    <tr>\n      <th>2</th>\n      <td>0.696</td>\n      <td>0.896</td>\n      <td>7</td>\n      <td>-5.915</td>\n      <td>1</td>\n      <td>0.1080</td>\n      <td>0.01640</td>\n      <td>0.866000</td>\n      <td>0.1030</td>\n      <td>0.570</td>\n      <td>128.001</td>\n      <td>audio_features</td>\n      <td>5nBuY24pWqH3GoavwlGd4P</td>\n      <td>spotify:track:5nBuY24pWqH3GoavwlGd4P</td>\n      <td>https://api.spotify.com/v1/tracks/5nBuY24pWqH3...</td>\n      <td>https://api.spotify.com/v1/audio-analysis/5nBu...</td>\n      <td>506250</td>\n      <td>4</td>\n      <td>NaN</td>\n      <td>techno</td>\n    </tr>\n    <tr>\n      <th>3</th>\n      <td>0.769</td>\n      <td>0.506</td>\n      <td>0</td>\n      <td>-11.658</td>\n      <td>1</td>\n      <td>0.0452</td>\n      <td>0.00273</td>\n      <td>0.000000</td>\n      <td>0.0832</td>\n      <td>0.102</td>\n      <td>120.004</td>\n      <td>audio_features</td>\n      <td>6GZRum7yJqfnGZGfIcGIaq</td>\n      <td>spotify:track:6GZRum7yJqfnGZGfIcGIaq</td>\n      <td>https://api.spotify.com/v1/tracks/6GZRum7yJqfn...</td>\n      <td>https://api.spotify.com/v1/audio-analysis/6GZR...</td>\n      <td>232046</td>\n      <td>4</td>\n      <td>$UICIDEWAVE</td>\n      <td>Dark Trap</td>\n    </tr>\n    <tr>\n      <th>4</th>\n      <td>0.400</td>\n      <td>0.676</td>\n      <td>11</td>\n      <td>-7.118</td>\n      <td>0</td>\n      <td>0.0927</td>\n      <td>0.25800</td>\n      <td>0.000023</td>\n      <td>0.3200</td>\n      <td>0.354</td>\n      <td>170.148</td>\n      <td>audio_features</td>\n      <td>5mZb9Kbl0uWhIS6RW47IHC</td>\n      <td>spotify:track:5mZb9Kbl0uWhIS6RW47IHC</td>\n      <td>https://api.spotify.com/v1/tracks/5mZb9Kbl0uWh...</td>\n      <td>https://api.spotify.com/v1/audio-analysis/5mZb...</td>\n      <td>180022</td>\n      <td>4</td>\n      <td>TR666 (feat. Swae Lee)</td>\n      <td>Underground Rap</td>\n    </tr>\n  </tbody>\n</table>\n</div>"
     },
     "execution_count": 6,
     "metadata": {},
     "output_type": "execute_result"
    }
   ],
   "source": [
    "import pandas as pd\n",
    "\n",
    "df1 = pd.read_csv('data/Spotify_train_dataset.csv')\n",
    "df2 = pd.read_csv('data/Spotify_test_dataset.csv')\n",
    "df3 = pd.read_csv('data/Spotify_exo2.csv')"
   ],
   "metadata": {
    "collapsed": false,
    "pycharm": {
     "name": "#%%\n"
    }
   }
  },
  {
   "cell_type": "code",
   "execution_count": 7,
   "outputs": [
    {
     "data": {
      "text/plain": "   danceability  energy  key  loudness  mode  speechiness  acousticness  \\\n0         0.449   0.809    6    -3.366     1       0.0847       0.00234   \n1         0.618   0.654    5   -14.305     0       0.4220       0.22600   \n2         0.696   0.896    7    -5.915     1       0.1080       0.01640   \n3         0.769   0.506    0   -11.658     1       0.0452       0.00273   \n4         0.400   0.676   11    -7.118     0       0.0927       0.25800   \n\n   instrumentalness  liveness  valence    tempo            type  \\\n0          0.876000    0.1100    0.115  142.490  audio_features   \n1          0.864000    0.1110    0.176  127.953  audio_features   \n2          0.866000    0.1030    0.570  128.001  audio_features   \n3          0.000000    0.0832    0.102  120.004  audio_features   \n4          0.000023    0.3200    0.354  170.148  audio_features   \n\n                       id                                   uri  \\\n0  15iEkKqQPgXjtHrvvL4Gvb  spotify:track:15iEkKqQPgXjtHrvvL4Gvb   \n1  2kLaJQILsNVOyiZvn8XaEc  spotify:track:2kLaJQILsNVOyiZvn8XaEc   \n2  5nBuY24pWqH3GoavwlGd4P  spotify:track:5nBuY24pWqH3GoavwlGd4P   \n3  6GZRum7yJqfnGZGfIcGIaq  spotify:track:6GZRum7yJqfnGZGfIcGIaq   \n4  5mZb9Kbl0uWhIS6RW47IHC  spotify:track:5mZb9Kbl0uWhIS6RW47IHC   \n\n                                          track_href  \\\n0  https://api.spotify.com/v1/tracks/15iEkKqQPgXj...   \n1  https://api.spotify.com/v1/tracks/2kLaJQILsNVO...   \n2  https://api.spotify.com/v1/tracks/5nBuY24pWqH3...   \n3  https://api.spotify.com/v1/tracks/6GZRum7yJqfn...   \n4  https://api.spotify.com/v1/tracks/5mZb9Kbl0uWh...   \n\n                                        analysis_url  duration_ms  \\\n0  https://api.spotify.com/v1/audio-analysis/15iE...       234310   \n1  https://api.spotify.com/v1/audio-analysis/2kLa...       364098   \n2  https://api.spotify.com/v1/audio-analysis/5nBu...       506250   \n3  https://api.spotify.com/v1/audio-analysis/6GZR...       232046   \n4  https://api.spotify.com/v1/audio-analysis/5mZb...       180022   \n\n   time_signature               song_name            genre  \n0               4                     NaN             trap  \n1               4                     NaN           techno  \n2               4                     NaN           techno  \n3               4             $UICIDEWAVE        Dark Trap  \n4               4  TR666 (feat. Swae Lee)  Underground Rap  ",
      "text/html": "<div>\n<style scoped>\n    .dataframe tbody tr th:only-of-type {\n        vertical-align: middle;\n    }\n\n    .dataframe tbody tr th {\n        vertical-align: top;\n    }\n\n    .dataframe thead th {\n        text-align: right;\n    }\n</style>\n<table border=\"1\" class=\"dataframe\">\n  <thead>\n    <tr style=\"text-align: right;\">\n      <th></th>\n      <th>danceability</th>\n      <th>energy</th>\n      <th>key</th>\n      <th>loudness</th>\n      <th>mode</th>\n      <th>speechiness</th>\n      <th>acousticness</th>\n      <th>instrumentalness</th>\n      <th>liveness</th>\n      <th>valence</th>\n      <th>tempo</th>\n      <th>type</th>\n      <th>id</th>\n      <th>uri</th>\n      <th>track_href</th>\n      <th>analysis_url</th>\n      <th>duration_ms</th>\n      <th>time_signature</th>\n      <th>song_name</th>\n      <th>genre</th>\n    </tr>\n  </thead>\n  <tbody>\n    <tr>\n      <th>0</th>\n      <td>0.449</td>\n      <td>0.809</td>\n      <td>6</td>\n      <td>-3.366</td>\n      <td>1</td>\n      <td>0.0847</td>\n      <td>0.00234</td>\n      <td>0.876000</td>\n      <td>0.1100</td>\n      <td>0.115</td>\n      <td>142.490</td>\n      <td>audio_features</td>\n      <td>15iEkKqQPgXjtHrvvL4Gvb</td>\n      <td>spotify:track:15iEkKqQPgXjtHrvvL4Gvb</td>\n      <td>https://api.spotify.com/v1/tracks/15iEkKqQPgXj...</td>\n      <td>https://api.spotify.com/v1/audio-analysis/15iE...</td>\n      <td>234310</td>\n      <td>4</td>\n      <td>NaN</td>\n      <td>trap</td>\n    </tr>\n    <tr>\n      <th>1</th>\n      <td>0.618</td>\n      <td>0.654</td>\n      <td>5</td>\n      <td>-14.305</td>\n      <td>0</td>\n      <td>0.4220</td>\n      <td>0.22600</td>\n      <td>0.864000</td>\n      <td>0.1110</td>\n      <td>0.176</td>\n      <td>127.953</td>\n      <td>audio_features</td>\n      <td>2kLaJQILsNVOyiZvn8XaEc</td>\n      <td>spotify:track:2kLaJQILsNVOyiZvn8XaEc</td>\n      <td>https://api.spotify.com/v1/tracks/2kLaJQILsNVO...</td>\n      <td>https://api.spotify.com/v1/audio-analysis/2kLa...</td>\n      <td>364098</td>\n      <td>4</td>\n      <td>NaN</td>\n      <td>techno</td>\n    </tr>\n    <tr>\n      <th>2</th>\n      <td>0.696</td>\n      <td>0.896</td>\n      <td>7</td>\n      <td>-5.915</td>\n      <td>1</td>\n      <td>0.1080</td>\n      <td>0.01640</td>\n      <td>0.866000</td>\n      <td>0.1030</td>\n      <td>0.570</td>\n      <td>128.001</td>\n      <td>audio_features</td>\n      <td>5nBuY24pWqH3GoavwlGd4P</td>\n      <td>spotify:track:5nBuY24pWqH3GoavwlGd4P</td>\n      <td>https://api.spotify.com/v1/tracks/5nBuY24pWqH3...</td>\n      <td>https://api.spotify.com/v1/audio-analysis/5nBu...</td>\n      <td>506250</td>\n      <td>4</td>\n      <td>NaN</td>\n      <td>techno</td>\n    </tr>\n    <tr>\n      <th>3</th>\n      <td>0.769</td>\n      <td>0.506</td>\n      <td>0</td>\n      <td>-11.658</td>\n      <td>1</td>\n      <td>0.0452</td>\n      <td>0.00273</td>\n      <td>0.000000</td>\n      <td>0.0832</td>\n      <td>0.102</td>\n      <td>120.004</td>\n      <td>audio_features</td>\n      <td>6GZRum7yJqfnGZGfIcGIaq</td>\n      <td>spotify:track:6GZRum7yJqfnGZGfIcGIaq</td>\n      <td>https://api.spotify.com/v1/tracks/6GZRum7yJqfn...</td>\n      <td>https://api.spotify.com/v1/audio-analysis/6GZR...</td>\n      <td>232046</td>\n      <td>4</td>\n      <td>$UICIDEWAVE</td>\n      <td>Dark Trap</td>\n    </tr>\n    <tr>\n      <th>4</th>\n      <td>0.400</td>\n      <td>0.676</td>\n      <td>11</td>\n      <td>-7.118</td>\n      <td>0</td>\n      <td>0.0927</td>\n      <td>0.25800</td>\n      <td>0.000023</td>\n      <td>0.3200</td>\n      <td>0.354</td>\n      <td>170.148</td>\n      <td>audio_features</td>\n      <td>5mZb9Kbl0uWhIS6RW47IHC</td>\n      <td>spotify:track:5mZb9Kbl0uWhIS6RW47IHC</td>\n      <td>https://api.spotify.com/v1/tracks/5mZb9Kbl0uWh...</td>\n      <td>https://api.spotify.com/v1/audio-analysis/5mZb...</td>\n      <td>180022</td>\n      <td>4</td>\n      <td>TR666 (feat. Swae Lee)</td>\n      <td>Underground Rap</td>\n    </tr>\n  </tbody>\n</table>\n</div>"
     },
     "execution_count": 7,
     "metadata": {},
     "output_type": "execute_result"
    }
   ],
   "source": [],
   "metadata": {
    "collapsed": false,
    "pycharm": {
     "name": "#%%\n"
    }
   }
  }
 ],
 "metadata": {
  "kernelspec": {
   "name": "python3",
   "language": "python",
   "display_name": "Python 3"
  },
  "language_info": {
   "codemirror_mode": {
    "name": "ipython",
    "version": 2
   },
   "file_extension": ".py",
   "mimetype": "text/x-python",
   "name": "python",
   "nbconvert_exporter": "python",
   "pygments_lexer": "ipython2",
   "version": "2.7.6"
  }
 },
 "nbformat": 4,
 "nbformat_minor": 0
}